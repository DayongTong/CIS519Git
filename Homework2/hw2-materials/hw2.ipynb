{
 "cells": [
  {
   "cell_type": "markdown",
   "metadata": {
    "id": "rVLSo4TR0aQU"
   },
   "source": [
    "# CIS 519 Homework 2: Linear Classifiers\n",
    "\n",
    "- Handed Out: October 5, 2020\n",
    "- Due: October 19, 2020 at 11:59pm.\n",
    "\n",
    "Although the solutions are my own, I consulted with the following people\n",
    "while working on this homework:\n",
    "- TODO (if applicable): ...\n",
    "\n",
    "## Preface\n",
    "\n",
    "- Feel free to talk to other members of the class in doing the homework. I am more concerned that you learn how to solve the problem than that you demonstrate that you solved it entirely on your own. You should, however, **write down your solution yourself**. Please include here the list of people you consulted with in the course of working on the homework:\n",
    "\n",
    "- While we encourage discussion within and outside the class, cheating and copying code is strictly not allowed. Copied code will result in the entire assignment being discarded at the very least.\n",
    "\n",
    "- Please use Piazza if you have questions about the homework. Also, please come to the TAs recitations and to the office hours.\n",
    "\n",
    "- The homework is due at 11:59 PM on the due date. We will be using Gradescope for collecting the homework assignments. You should have been automatically added to Gradescope. If not, please ask a TA for assistance. Post on Piazza and contact the TAs if you are having technical difficulties in submitting the assignment.\n",
    "\n",
    "- Here are some resources you will need for this assignment (https://www.seas.upenn.edu/~cis519/fall2020/assets/HW/HW2/hw2-materials.zip)\n"
   ]
  },
  {
   "cell_type": "markdown",
   "metadata": {
    "id": "ClICZP2npLtE"
   },
   "source": [
    "# Overview\n",
    "\n",
    "### About Jupyter Notebooks\n",
    "\n",
    "In this homework assignment, we will use a Jupyter notebook to implement, analyze, and discuss ML classifiers.\n",
    "Knowing and being comfortable with Jupyter notebooks is a must in every data scientist, ML engineer, researcher, etc. They are widely used in industry and are a standard form of communication in ML by intertwining text and code to \"tell a story\". There are many resources that can introduce you to Jupyter notebooks (they are pretty easy to understand!), and if you still need help any of the TAs are more than willing to help.\n",
    "\n",
    "We will be using a local instance of Jupyter instead of Colab. You are of course free to use Colab, but you will need to understand how to hook your Colab instance with Google Drive to upload the datasets and to save images.\n",
    "\n",
    "\n",
    "\n",
    "### About the Homework\n",
    "\n",
    "You will experiment with several different linear classifiers and analyze \n",
    "their performances in both real and synthetic datasets. The goal is to understand the differences and\n",
    "similarities between the algorithms and the impact that the dataset characteristics have on the\n",
    "algorithms' learning behaviors and performances.\n",
    "\n",
    "In total, there are seven different learning algorithms which you will implement.\n",
    "Six are variants of the Perceptron algorithm and the seventh is a support vector machine (SVM).\n",
    "The details of these models is described in Section 1.\n",
    "\n",
    "\n",
    "In order to evaluate the performances of these models, you will use several different datasets.\n",
    "The first two datasets are synthetic datasets that have features and labels that were programatically\n",
    "generated. They were generated using the same script but use different input parameters that produced \n",
    "sparse and dense variants. The second two datasets are for the task of named-entity recognition (NER),\n",
    "identifying the names of people, locations, and organizations within text.\n",
    "One comes from news text and the other from a corpus of emails.\n",
    "For these two datasets, you need to implement the feature extraction yourself.\n",
    "All of the datasets and feature extraction information are described in Section 2.\n",
    "\n",
    "Finally, you will run two sets of experiments, one on the synthetic data and one on the NER data.\n",
    "The first set will analyze how the amount of training data impacts model performance.\n",
    "The second will look at the consequences of having training and testing data that come from different domains.\n",
    "The details of the experiments are described in Section 3.\n",
    "\n",
    "### Distribution of Points\n",
    "\n",
    "The homework has 4 sections for a total of 100 points + 10 extra credit points:\n",
    "- Section 0: Warmup (5 points)\n",
    "- Section 1: Linear Classifiers (30 points)\n",
    "- Section 2: Datasets (0 points, just text)\n",
    "- Section 3: Experiments (65 points)\n",
    "    - Synthetic Experiment:\n",
    "        - Parameter Tuning (10 points)\n",
    "        - Learning Curves(10 points)\n",
    "        - Final Test Accuracies (5 points)\n",
    "        - Discussion Questions (5 points)\n",
    "        - Noise Experiment (10 points **extra credit**)\n",
    "    - NER Experiment:\n",
    "        - Feature Extraction (25 points)\n",
    "        - Final Test Accuracies (5 points)\n",
    "        - $F_1$ Discussion Questions (5 points)"
   ]
  },
  {
   "cell_type": "markdown",
   "metadata": {
    "id": "u4gI2-Ygpr69"
   },
   "source": [
    "# Section 0: Warmup"
   ]
  },
  {
   "cell_type": "markdown",
   "metadata": {
    "id": "Ecz8xJo-ojUs"
   },
   "source": [
    "###### Only For Colab\n",
    "\n",
    "If you want to complete this homework in Colab, you are more than welcome to.\n",
    "You will need a little bit more maneuvering since you will need to upload\n",
    "the files of hw2 to your Google Drive and run the following two cells:"
   ]
  },
  {
   "cell_type": "code",
   "execution_count": 1,
   "metadata": {
    "colab": {
     "base_uri": "https://localhost:8080/",
     "height": 33
    },
    "executionInfo": {
     "elapsed": 16579,
     "status": "ok",
     "timestamp": 1601838226119,
     "user": {
      "displayName": "Samuel Xu",
      "photoUrl": "https://lh3.googleusercontent.com/a-/AOh14GjKvzcGAASWuvxjrEp7uMipUJWbOgy2JiGGaHeOtg=s64",
      "userId": "11877295110173304666"
     },
     "user_tz": 240
    },
    "id": "PUMTPLGG-3s2",
    "outputId": "9f08f1c8-19ed-4983-e733-5586d32d5649"
   },
   "outputs": [
    {
     "name": "stdout",
     "output_type": "stream",
     "text": [
      "Mounted at /content/drive\n"
     ]
    }
   ],
   "source": [
    "# Uncomment if you want to use Colab for this homework.\n",
    "# from google.colab import drive\n",
    "# drive.mount('/content/drive', force_remount=True)"
   ]
  },
  {
   "cell_type": "code",
   "execution_count": 3,
   "metadata": {
    "colab": {
     "base_uri": "https://localhost:8080/",
     "height": 33
    },
    "executionInfo": {
     "elapsed": 348,
     "status": "ok",
     "timestamp": 1601838234837,
     "user": {
      "displayName": "Samuel Xu",
      "photoUrl": "https://lh3.googleusercontent.com/a-/AOh14GjKvzcGAASWuvxjrEp7uMipUJWbOgy2JiGGaHeOtg=s64",
      "userId": "11877295110173304666"
     },
     "user_tz": 240
    },
    "id": "eL4xKfSbop6z",
    "outputId": "d7f3736e-791d-466e-d836-c71d44d2e87d"
   },
   "outputs": [
    {
     "name": "stdout",
     "output_type": "stream",
     "text": [
      "/content/drive/My Drive/Colab Notebooks\n"
     ]
    }
   ],
   "source": [
    "# Uncomment if you want to use Colab for this homework.\n",
    "# %cd /content/drive/My Drive/Colab Notebooks/YOUR_PATH_TO_HW_FOLDER"
   ]
  },
  {
   "cell_type": "markdown",
   "metadata": {
    "id": "cwXv78-V_wL_"
   },
   "source": [
    "###### Python Version\n",
    "\n",
    "Python 3.6 or above is required for this homework. Make sure you have it installed."
   ]
  },
  {
   "cell_type": "code",
   "execution_count": 1,
   "metadata": {
    "id": "T5ANvqaM_wMA"
   },
   "outputs": [],
   "source": [
    "# Let's check.\n",
    "import sys\n",
    "if sys.version_info[:2] < (3, 6):\n",
    "    raise Exception(\"You have Python version \" + str(sys.version_info))"
   ]
  },
  {
   "cell_type": "markdown",
   "metadata": {
    "id": "y0fVHRxp0aQX"
   },
   "source": [
    "## Imports and Helper Functions (5 points total)"
   ]
  },
  {
   "cell_type": "markdown",
   "metadata": {
    "id": "u2feRgjW0aQY"
   },
   "source": [
    "Let's import useful modules we will need throughout the homework\n",
    "as well as implement helper functions for our experiment. **Read and remember** what each function is doing, as you will probably need some of them down the line."
   ]
  },
  {
   "cell_type": "code",
   "execution_count": 2,
   "metadata": {
    "id": "Ah78siKM0aQZ"
   },
   "outputs": [
    {
     "name": "stdout",
     "output_type": "stream",
     "text": [
      "Requirement already satisfied: sklearn in c:\\users\\tongd\\anaconda3\\lib\\site-packages (0.0)\n",
      "Requirement already satisfied: scikit-learn in c:\\users\\tongd\\anaconda3\\lib\\site-packages (from sklearn) (0.23.1)\n",
      "Requirement already satisfied: joblib>=0.11 in c:\\users\\tongd\\anaconda3\\lib\\site-packages (from scikit-learn->sklearn) (0.16.0)\n",
      "Requirement already satisfied: threadpoolctl>=2.0.0 in c:\\users\\tongd\\anaconda3\\lib\\site-packages (from scikit-learn->sklearn) (2.1.0)\n",
      "Requirement already satisfied: scipy>=0.19.1 in c:\\users\\tongd\\anaconda3\\lib\\site-packages (from scikit-learn->sklearn) (1.5.0)\n",
      "Requirement already satisfied: numpy>=1.13.3 in c:\\users\\tongd\\anaconda3\\lib\\site-packages (from scikit-learn->sklearn) (1.18.5)\n",
      "Note: you may need to restart the kernel to use updated packages.\n",
      "Requirement already satisfied: matplotlib in c:\\users\\tongd\\anaconda3\\lib\\site-packages (3.2.2)\n",
      "Requirement already satisfied: python-dateutil>=2.1 in c:\\users\\tongd\\anaconda3\\lib\\site-packages (from matplotlib) (2.8.1)\n",
      "Requirement already satisfied: numpy>=1.11 in c:\\users\\tongd\\anaconda3\\lib\\site-packages (from matplotlib) (1.18.5)\n",
      "Requirement already satisfied: kiwisolver>=1.0.1 in c:\\users\\tongd\\anaconda3\\lib\\site-packages (from matplotlib) (1.2.0)\n",
      "Requirement already satisfied: pyparsing!=2.0.4,!=2.1.2,!=2.1.6,>=2.0.1 in c:\\users\\tongd\\anaconda3\\lib\\site-packages (from matplotlib) (2.4.7)\n",
      "Requirement already satisfied: cycler>=0.10 in c:\\users\\tongd\\anaconda3\\lib\\site-packages (from matplotlib) (0.10.0)\n",
      "Requirement already satisfied: six>=1.5 in c:\\users\\tongd\\anaconda3\\lib\\site-packages (from python-dateutil>=2.1->matplotlib) (1.15.0)\n",
      "Note: you may need to restart the kernel to use updated packages.\n",
      "Requirement already satisfied: numpy in c:\\users\\tongd\\anaconda3\\lib\\site-packages (1.18.5)\n",
      "Note: you may need to restart the kernel to use updated packages.\n"
     ]
    }
   ],
   "source": [
    "# Install necessary libraries for this homework. only need to run once i think\n",
    "%pip install sklearn\n",
    "%pip install matplotlib\n",
    "%pip install numpy"
   ]
  },
  {
   "cell_type": "code",
   "execution_count": 3,
   "metadata": {
    "id": "s4IV1W4y0aQg"
   },
   "outputs": [],
   "source": [
    "import json\n",
    "import os\n",
    "\n",
    "import numpy as np\n",
    "import matplotlib.pylab as plt\n",
    "from sklearn.feature_extraction import DictVectorizer\n",
    "from sklearn.metrics import accuracy_score\n",
    "\n",
    "DATASETS_PATH = \"datasets/\"\n",
    "NER_PATH = os.path.join(DATASETS_PATH, 'ner')\n",
    "SYNTHETIC_PATH = os.path.join(DATASETS_PATH, 'synthetic')"
   ]
  },
  {
   "cell_type": "code",
   "execution_count": 4,
   "metadata": {
    "id": "UdcTYi0w0aQl"
   },
   "outputs": [],
   "source": [
    "\"\"\"\n",
    "Helper function that loads a synthetic dataset from the dataset root (e.g. \"synthetic/sparse\").\n",
    "\n",
    "You should not need to edit this method.\n",
    "\"\"\"\n",
    "def load_synthetic_data(dataset_type):\n",
    "\n",
    "    def load_jsonl(file_path):\n",
    "        data = []\n",
    "        with open(file_path, 'r') as f:\n",
    "            for line in f:\n",
    "                data.append(json.loads(line))\n",
    "        return data\n",
    "\n",
    "    def load_txt(file_path):\n",
    "        data = []\n",
    "        with open(file_path, 'r') as f:\n",
    "            for line in f:\n",
    "                data.append(int(line.strip()))\n",
    "        return data\n",
    "\n",
    "    def convert_to_sparse(X):\n",
    "        sparse = []\n",
    "        for x in X:\n",
    "            data = {}\n",
    "            for i, value in enumerate(x):\n",
    "                if value != 0:\n",
    "                    data[str(i)] = value\n",
    "            sparse.append(data)\n",
    "        return sparse\n",
    "\n",
    "    path = os.path.join(SYNTHETIC_PATH, dataset_type)\n",
    "    \n",
    "    X_train = load_jsonl(os.path.join(path, 'train.X'))\n",
    "    X_dev = load_jsonl(os.path.join(path, 'dev.X'))\n",
    "    X_test = load_jsonl(os.path.join(path, 'test.X'))\n",
    "\n",
    "    num_features = len(X_train[0])\n",
    "    features = [str(i) for i in range(num_features)]\n",
    "\n",
    "    X_train = convert_to_sparse(X_train)\n",
    "    X_dev = convert_to_sparse(X_dev)\n",
    "    X_test = convert_to_sparse(X_test)\n",
    "\n",
    "    y_train = load_txt(os.path.join(path, 'train.y'))\n",
    "    y_dev = load_txt(os.path.join(path, 'dev.y'))\n",
    "    y_test = load_txt(os.path.join(path, 'test.y'))\n",
    "\n",
    "    return X_train, y_train, X_dev, y_dev, X_test, y_test, features"
   ]
  },
  {
   "cell_type": "code",
   "execution_count": 5,
   "metadata": {
    "id": "rYO0o0VB0aQp"
   },
   "outputs": [],
   "source": [
    "\"\"\"\n",
    "Helper function that loads the NER data from a path (e.g. \"ner/conll/train\"). \n",
    "\n",
    "You should not need to edit this method.\n",
    "\"\"\"\n",
    "def load_ner_data(dataset=None, dataset_type=None):\n",
    "    # List of tuples for each sentence\n",
    "    data = []\n",
    "    path = os.path.join(os.path.join(NER_PATH, dataset), dataset_type)\n",
    "    for filename in os.listdir(path):\n",
    "        with open(os.path.join(path, filename), 'r') as file:\n",
    "            sentence = []\n",
    "            for line in file:\n",
    "                if line == '\\n':\n",
    "                    data.append(sentence)\n",
    "                    sentence = []\n",
    "                else:\n",
    "                    sentence.append(tuple(line.split()))\n",
    "    return data"
   ]
  },
  {
   "cell_type": "code",
   "execution_count": 6,
   "metadata": {
    "id": "YYpjru5b0aQu"
   },
   "outputs": [],
   "source": [
    "\"\"\"\n",
    "A helper function that plots the relationship between number of examples\n",
    "and accuracies for all the models.\n",
    "\n",
    "You should not need to edit this method.\n",
    "\"\"\"\n",
    "def plot_learning_curves(\n",
    "    perceptron_accs,\n",
    "    winnow_accs,\n",
    "    adagrad_accs,\n",
    "    avg_perceptron_accs,\n",
    "    avg_winnow_accs,\n",
    "    avg_adagrad_accs,\n",
    "    svm_accs\n",
    "):\n",
    "    \"\"\"\n",
    "    This function will plot the learning curve for the 7 different models.\n",
    "    Pass the accuracies as lists of length 11 where each item corresponds\n",
    "    to a point on the learning curve.\n",
    "    \"\"\"\n",
    "    \n",
    "    accuracies = [\n",
    "        ('perceptron', perceptron_accs),\n",
    "        ('winnow', winnow_accs),\n",
    "        ('adagrad', adagrad_accs),\n",
    "        ('avg-perceptron', avg_perceptron_accs),\n",
    "        ('avg-winnow', avg_winnow_accs),\n",
    "        ('avg-adagrad', avg_adagrad_accs),\n",
    "        ('svm', svm_accs)\n",
    "    ]\n",
    "    \n",
    "    x = [500, 1000, 1500, 2000, 2500, 3000, 3500, 4000, 4500, 5000, 10000]\n",
    "    plt.figure()\n",
    "    f, (ax, ax2) = plt.subplots(1, 2, sharey=True, facecolor='w')\n",
    "    \n",
    "    for label, acc_list in accuracies:\n",
    "        assert len(acc_list) == 11\n",
    "        ax.plot(x, acc_list, label=label)\n",
    "        ax2.plot(x, acc_list, label=label)\n",
    "        \n",
    "    ax.set_xlim(0, 5500)\n",
    "    ax2.set_xlim(9500, 10000)\n",
    "    ax2.set_xticks([10000])\n",
    "    # hide the spines between ax and ax2\n",
    "    ax.spines['right'].set_visible(False)\n",
    "    ax2.spines['left'].set_visible(False)\n",
    "    ax.yaxis.tick_left()\n",
    "    ax.tick_params(labelright='off')\n",
    "    ax2.yaxis.tick_right()\n",
    "    ax2.legend()\n",
    "    plt.show()"
   ]
  },
  {
   "cell_type": "markdown",
   "metadata": {
    "id": "sg9QfIak0aQz"
   },
   "source": [
    "### F1 Score (5 points)\n",
    "\n",
    "For some part of the homework, you will use the F1 score instead of accuracy to evaluate how well a model does. The F1 score is computed as the harmonic mean of the precision and recall of the classifier. Precision measures the number of correctly identified positive results by the total number of positive results. Recall, on the other hand, measures the number of correctly identified positive results divided by the number of all samples that should have been identified as positive. More formally, we have that\n",
    "\n",
    "$$\n",
    "\\begin{align}\n",
    "\\text{Precision} &= \\frac{TP}{TP + FP} \\\\\n",
    "\\text{Recall} &= \\frac{TP}{TP + FN}\n",
    "\\end{align}\n",
    "$$\n",
    "\n",
    "where $TP$ is the number of true positives, $FP$ false positives and $FN$ false negatives. Combining these two we define F1 as\n",
    "\n",
    "$$\n",
    "\\text{F1} = 2 \\cdot \\frac{\\text{Precision} \\cdot \\text{Recall}}{\\text{Precision} + \\text{Recall}}\n",
    "$$\n",
    "\n",
    "You now need to implement the calculation of F1 yourself using the provided function header. It will be unit tested on Gradescope."
   ]
  },
  {
   "cell_type": "code",
   "execution_count": 7,
   "metadata": {
    "id": "WnzC-Gce0aQ0"
   },
   "outputs": [],
   "source": [
    "def calculate_f1(y_gold, y_model):\n",
    "    \"\"\"\n",
    "    TODO: MODIFY \n",
    "    \n",
    "    Computes the F1 of the model predictions using the\n",
    "    gold labels. Each of y_gold and y_model are lists with\n",
    "    labels 1 or -1. The function should return the F1\n",
    "    score as a number between 0 and 1.\n",
    "    \"\"\"\n",
    "    import numpy as np\n",
    "\n",
    "    diff = np.zeros(len(y_gold))\n",
    "    for i in range(len(y_gold)):\n",
    "        diff[i] = y_gold[i] - y_model[i]\n",
    "    TP = 0\n",
    "    FP = 0\n",
    "    FN = 0\n",
    "    \n",
    "    for i in range(len(diff)):\n",
    "        if diff[i] == 0 and y_gold[i] == 1:\n",
    "            TP += 1\n",
    "        if diff[i] > 0:\n",
    "            FN += 1\n",
    "        if diff[i] < 0:\n",
    "            FP += 1\n",
    "    \n",
    "    precision = TP / (TP + FP)\n",
    "    recall = TP / (TP + FN)\n",
    "    F1 = 2 * precision * recall / (precision + recall)\n",
    "    \n",
    "    return F1"
   ]
  },
  {
   "cell_type": "markdown",
   "metadata": {
    "id": "_Pbt52HH0aQ7"
   },
   "source": [
    "Looking at the formula for the F1 score, what is the highest and lowest possible value?"
   ]
  },
  {
   "cell_type": "code",
   "execution_count": 8,
   "metadata": {
    "id": "jB4UrDGR0aQ8"
   },
   "outputs": [],
   "source": [
    "def highest_and_lowest_f1_score():\n",
    "    \"\"\"\n",
    "    TODO: MODIFY\n",
    "    \n",
    "    Return the highest and lowest possible F1 score\n",
    "    (ie one line solution returning the theoretical max and min)\n",
    "    \"\"\"\n",
    "    \n",
    "    maxscore = 1\n",
    "    minscore = 0\n",
    "    \n",
    "    return maxscore, minscore"
   ]
  },
  {
   "cell_type": "markdown",
   "metadata": {
    "id": "FS0BO0AJ0aRA"
   },
   "source": [
    "# Section 1. Linear Classifiers (30 points total)"
   ]
  },
  {
   "cell_type": "markdown",
   "metadata": {
    "id": "ZM2eSe030aRB"
   },
   "source": [
    "This section details the seven different algorithms that you will use in the experiments. For each of the algorithms, we describe the initialization you should use to start training and the different parameter settings that you should use for the experiment on the synthetic datasets. Each of the update functions for the Perceptron, Winnow, and Perceptron with AdaGrad will be unittested on Gradescope, so please do not edit the function definitions."
   ]
  },
  {
   "cell_type": "markdown",
   "metadata": {
    "id": "YahdyT4H0aRC"
   },
   "source": [
    "### 1.1 Base Classifier"
   ]
  },
  {
   "cell_type": "code",
   "execution_count": 9,
   "metadata": {
    "id": "kRcseeXa0aRD"
   },
   "outputs": [],
   "source": [
    "class Classifier(object):\n",
    "    \"\"\"\n",
    "    DO NOT MODIFY\n",
    "\n",
    "    The Classifier class is the base class for all of the Perceptron-based\n",
    "    algorithms. Your class should override the \"process_example\" and\n",
    "    \"predict_single\" functions. Further, the averaged models should\n",
    "    override the \"finalize\" method, where the final parameter values\n",
    "    should be calculated. \n",
    "    \n",
    "    You should not need to edit this class any further.\n",
    "    \"\"\"\n",
    "    \n",
    "    ITERATIONS = 10\n",
    "    \n",
    "    def train(self, X, y):\n",
    "        for iteration in range(self.ITERATIONS):\n",
    "            for x_i, y_i in zip(X, y):\n",
    "                self.process_example(x_i, y_i)\n",
    "        self.finalize()\n",
    "\n",
    "    def process_example(self, x, y):\n",
    "        \"\"\"\n",
    "        Makes a prediction using the current parameter values for\n",
    "        the features x and potentially updates the parameters based\n",
    "        on the gradient. Note \"x\" is a dictionary which maps from the feature\n",
    "        name to the feature value and y is either 1 or -1.\n",
    "        \"\"\"\n",
    "        raise NotImplementedError\n",
    "\n",
    "    def finalize(self):\n",
    "        \"\"\"Calculates the final parameter values for the averaged models.\"\"\"\n",
    "        pass\n",
    "\n",
    "    def predict(self, X):\n",
    "        \"\"\"\n",
    "        Predicts labels for all of the input examples. You should not need\n",
    "        to override this method.\n",
    "        \"\"\"\n",
    "        return [self.predict_single(x) for x in X]\n",
    "\n",
    "    def predict_single(self, x):\n",
    "        \"\"\"\n",
    "        Predicts a label, 1 or -1, for the input example. \"x\" is a dictionary\n",
    "        which maps from the feature name to the feature value.\n",
    "        \"\"\"\n",
    "        raise NotImplementedError"
   ]
  },
  {
   "cell_type": "markdown",
   "metadata": {
    "id": "TzRKTNaK0aRH"
   },
   "source": [
    "### 1.2 Basic Perceptron (2 points)"
   ]
  },
  {
   "cell_type": "markdown",
   "metadata": {
    "id": "xVvMIuX10aRI"
   },
   "source": [
    "We do this classifier for you, so enjoy the two free points and pay attention to the techniques and code written.\n",
    "\n",
    "#### 1.2.1 Description\n",
    "\n",
    "This is the basic version of the Perceptron Algorithm.\n",
    "    In this version, an update will be performed on the example $(\\textbf{x}, y)$ if $y(\\mathbf{w}^\\intercal \\mathbf{x} + \\theta) \\leq 0$. The Perceptron needs to learn both the bias term $\\theta$ and the weight vector $\\mathbf{w}$ parameters.\n",
    "When the Perceptron makes a mistake on the example $(\\textbf{x}, y)$, both $\\mathbf{w}$ and $\\theta$ need to be updated using the following update equations:\n",
    "$$\n",
    "\\begin{align*}\n",
    "    \\mathbf{w}^\\textrm{new} &\\gets \\mathbf{w} + \\eta \\cdot y \\cdot \\mathbf{x} \\\\\n",
    "    \\theta^\\textrm{new} &\\gets \\theta + \\eta \\cdot y\n",
    "\\end{align*}\n",
    "$$\n",
    "where $\\eta$ is the learning rate.\n",
    "\n",
    "#### 1.2.2 Hyperparameters\n",
    "\n",
    "We set $\\eta$ to 1, so there are no hyperparameters to tune. \n",
    "\n",
    "Note: If we assume that the order of the examples presented to the algorithm is fixed, we initialize $\\mathbf{w} = \\mathbf{0}$ and $\\theta = 0$, and train both together, then the learning rate $\\eta$ does not have any effect.\n",
    "        In fact you can show that, if $\\mathbf{w}_1$ and $\\theta_1$ are the outputs of the Perceptron algorithm with learning rate $\\eta_1$, then $\\mathbf{w}_1/\\eta_1$ and $\\theta_1/\\eta_1$ will be the result of the Perceptron with learning rate 1 (note that these two hyperplanes give identical predictions).\n",
    "\n",
    "#### 1.2.3 Initialization\n",
    "\n",
    "$\\mathbf{w} = [0, 0, \\dots, 0]$ and $\\theta = 0$."
   ]
  },
  {
   "cell_type": "code",
   "execution_count": 10,
   "metadata": {
    "id": "zotWbBvj0aRJ"
   },
   "outputs": [],
   "source": [
    "class Perceptron(Classifier):\n",
    "    \"\"\"\n",
    "    DO NOT MODIFY THIS CELL\n",
    "\n",
    "    The Perceptron model. Note how we are subclassing `Classifier`.\n",
    "    \"\"\"\n",
    "    \n",
    "    def __init__(self, features):\n",
    "        \"\"\"\n",
    "        Initializes the parameters for the Perceptron model. \"features\"\n",
    "        is a list of all of the features of the model where each is\n",
    "        represented by a string.\n",
    "        \"\"\"\n",
    "        \n",
    "        # NOTE: Do not change the names of these 3 data members because\n",
    "        # they are used in the unit tests\n",
    "        self.eta = 1\n",
    "        self.theta = 0\n",
    "        self.w = {feature: 0.0 for feature in features}\n",
    "\n",
    "    def process_example(self, x, y):\n",
    "        y_pred = self.predict_single(x)\n",
    "        if y != y_pred:\n",
    "            for feature, value in x.items():\n",
    "                self.w[feature] += self.eta * y * value\n",
    "            self.theta += self.eta * y\n",
    "\n",
    "    def predict_single(self, x):\n",
    "        score = 0\n",
    "        for feature, value in x.items():\n",
    "            score += self.w[feature] * value\n",
    "        score += self.theta\n",
    "        if score <= 0:\n",
    "            return -1\n",
    "        return 1"
   ]
  },
  {
   "cell_type": "markdown",
   "metadata": {
    "id": "kaiyRKjo0aRN"
   },
   "source": [
    "For the rest of the Perceptron-based algorithms, you will have to implement the corresponding class like we have done for `Perceptron`.\n",
    "Use the `Perceptron` class as a guide for how to implement the functions."
   ]
  },
  {
   "cell_type": "markdown",
   "metadata": {
    "id": "pWiuhyOm0aRO"
   },
   "source": [
    "### 1.3 Winnow (5 points)"
   ]
  },
  {
   "cell_type": "markdown",
   "metadata": {
    "id": "s9dx93VU0aRR"
   },
   "source": [
    "#### 1.3.1 Description\n",
    "The Winnow algorithm is a variant of the Perceptron algorithm with multiplicative updates. Since the algorithm requires that the target function is monotonic, you will only use it on the synthetic datasets.\n",
    "\n",
    "The Winnow algorithm only learns parameters $\\mathbf{w}$.\n",
    "We will fix $\\theta = -n$, where $n$ is the number of features.\n",
    "When the Winnow algorithm makes a mistake on the example $(\\textbf{x}, y)$, the parameters are updated with the following equation:\n",
    "$$\n",
    "\\begin{equation}\n",
    "    w^\\textrm{new}_i \\gets w_i \\cdot \\alpha^{y \\cdot x_i}\n",
    "\\end{equation}\n",
    "$$\n",
    "where $w_i$ and $x_i$ are the $i$th components of the corresponding vectors.\n",
    "Here, $\\alpha$ is a promotion/demotion hyperparameter.\n",
    "\n",
    "#### 1.3.2 Hyperparameters\n",
    "\n",
    "For the experiment, choose $\\alpha \\in \\{1.1, 1.01, 1.005, 1.0005, 1.0001\\}$.\n",
    "\n",
    "#### 1.3.3 Initialization\n",
    "\n",
    "$\\mathbf{w} = [1, 1, \\dots, 1]$ and $\\theta = -n$ (constant)."
   ]
  },
  {
   "cell_type": "code",
   "execution_count": 11,
   "metadata": {
    "id": "g9pPUPTd0aRS"
   },
   "outputs": [],
   "source": [
    "class Winnow(Classifier):\n",
    "    def __init__(self, alpha, features):\n",
    "        # DO NOT change the names of these 3 data members because\n",
    "        # they are used in the unit tests\n",
    "        self.alpha = alpha\n",
    "        self.w = {feature: 1.0 for feature in features}\n",
    "        self.theta = -len(features)\n",
    "        \n",
    "    def process_example(self, x, y):\n",
    "        \"\"\" TODO: IMPLEMENT\"\"\"\n",
    "        \n",
    "        y_pred = self.predict_single(x)\n",
    "        if y != y_pred:\n",
    "            for feature, value in x.items():\n",
    "                self.w[feature] = self.w[feature] * pow(self.alpha,y*value)\n",
    "        \n",
    "\n",
    "    def predict_single(self, x):\n",
    "        \"\"\" TODO: IMPLEMENT\"\"\"\n",
    "        \n",
    "        score = 0\n",
    "        for feature, value in x.items():\n",
    "            score += self.w[feature] * value\n",
    "        score += self.theta\n",
    "        \n",
    "        if score <= 0:\n",
    "            return -1\n",
    "        return 1\n"
   ]
  },
  {
   "cell_type": "markdown",
   "metadata": {
    "id": "--I-w3_U0aRX"
   },
   "source": [
    "### 1.4 AdaGrad (10 points)"
   ]
  },
  {
   "cell_type": "markdown",
   "metadata": {
    "id": "d5AXEuKn0aRY"
   },
   "source": [
    "#### 1.4.1 Description\n",
    "AdaGrad is a variant of the Perceptron algorithm that adapts the learning rate for each parameter based on historical information.\n",
    "    The idea is that frequently changing features get smaller learning rates and stable features higher ones.\n",
    "\n",
    "To derive the update equations for this model, we first need to start with the loss function.\n",
    "Instead of using the hinge loss with the elbow at 0 (like the basic Perceptron does), we will instead use the standard hinge loss with the elbow at 1:\n",
    "\n",
    "$$\n",
    "\\begin{equation}\n",
    "    \\mathcal{L}(\\mathbf{x}, y, \\mathbf{w}, \\theta) = \\max\\left\\{0, 1 - y(\\mathbf{w}^\\intercal \\mathbf{x} + \\theta)\\right\\}\n",
    "\\end{equation}\n",
    "$$\n",
    "\n",
    "Then, by taking the partial derivative of $\\mathcal{L}$ with respect to $\\mathbf{w}$ and $\\theta$, we can derive the respective graidents (make sure you understand how you could derive these gradients on your own):\n",
    "\n",
    "$$\n",
    "\\begin{align}\n",
    "    \\frac{\\partial\\mathcal{L}}{\\partial\\mathbf{w}} &=\n",
    "        \\begin{cases}\n",
    "        \\mathbf{0} & \\text{if $y(\\mathbf{w}^\\intercal \\mathbf{x} + \\theta) > 1$} \\\\\n",
    "        -y\\cdot \\mathbf{x} & \\textrm{otherwise}\n",
    "        \\end{cases} \\\\\n",
    "    \\frac{\\partial\\mathcal{L}}{\\partial\\theta} &=\n",
    "        \\begin{cases}\n",
    "            0 & \\text{if $y(\\mathbf{w}^\\intercal \\mathbf{x} + \\theta) > 1$} \\\\\n",
    "            -y & \\textrm{otherwise}\n",
    "        \\end{cases}\n",
    "\\end{align}\n",
    "$$\n",
    "\n",
    "Then for each parameter, we will keep track of the sum of the parameters' squared gradients.\n",
    "In the following equations, the $k$ superscript refers to the $k$th non-zero gradient (i.e., the $k$th weight vector/misclassified example) and $t$ is the number of mistakes seen thus far.\n",
    "\n",
    "$$\n",
    "\\begin{align}\n",
    "    G^t_j &= \\sum_{k=1}^t \\left(\\frac{\\partial \\mathcal{L}}{\\partial w^k_j}\\right)^2 \\\\\n",
    "    H^t &= \\sum_{k=1}^t \\left(\\frac{\\partial \\mathcal{L}}{\\partial \\theta^k}\\right)^2\n",
    "\\end{align}\n",
    "$$\n",
    "\n",
    "For example, on the 3rd mistake ($t = 3$), $G^3_j$ is the sum of the squares of the first three non-zero gradients ($\\left(\\frac{\\partial \\mathcal{L}}{\\partial w^1_j}\\right)^2$, $\\left(\\frac{\\partial \\mathcal{L}}{\\partial w^2_j}\\right)^2$, and $\\left(\\frac{\\partial \\mathcal{L}}{\\partial w^3_j}\\right)^2$).\n",
    "Then $\\mathbf{G}^3$ is used to calculate the 4th value of the weight vector as follows.\n",
    "On example $(\\mathbf{x}, y)$, if $y(\\mathbf{w}^\\intercal \\mathbf{x} + \\theta) \\leq 1$, then the parameters are updated with the following equations:\n",
    "\n",
    "$$\n",
    "\\begin{align}\n",
    "    \\mathbf{w}^{t+1} &\\gets \\mathbf{w}^t + \\eta \\cdot \\frac{y \\cdot \\mathbf{x}}{\\sqrt{\\mathbf{G}^t}} \\\\\n",
    "    \\theta^{t+1} &\\gets \\theta^t + \\eta \\frac{y}{\\sqrt{H^t}}\n",
    "\\end{align}\n",
    "$$\n",
    "\n",
    "Note that, although we use the hinge loss with the elbow at 1 for training, you still make the prediction based on whether or not $y(\\mathbf{w}^\\intercal \\mathbf{x} + \\theta) \\leq 0$ during testing.\n",
    "\n",
    "#### 1.4.2 Hyperparameters\n",
    "\n",
    "For the experiment, choose $\\eta \\in \\{1.5, 0.25, 0.03, 0.005, 0.001\\}$\n",
    "\n",
    "#### 1.4.3 Initialization\n",
    "\n",
    "$\\mathbf{w} = [0, 0, \\dots, 0]$ and $\\theta = 0$."
   ]
  },
  {
   "cell_type": "code",
   "execution_count": 12,
   "metadata": {
    "id": "w50RXTza0aRZ"
   },
   "outputs": [],
   "source": [
    "class AdaGrad(Classifier):\n",
    "    def __init__(self, eta, features):\n",
    "        # DO NOT change the names of these 3 data members because\n",
    "        # they are used in the unit tests\n",
    "        self.eta = eta\n",
    "        self.w = {feature: 0.0 for feature in features}\n",
    "        self.theta = 0\n",
    "        self.G = {feature: 1e-5 for feature in features}  # 1e-5 prevents divide by 0 problems\n",
    "        self.H = 0\n",
    "        \n",
    "    def process_example(self, x, y):\n",
    "        \"\"\" TODO: IMPLEMENT\"\"\"\n",
    "        import numpy as np\n",
    "        \n",
    "        y_pred = self.predict_single(x)\n",
    "        dotpro = 0\n",
    "        \n",
    "        if y != y_pred:\n",
    "            \n",
    "#             calculate dot product\n",
    "            for feature, value in x.items():\n",
    "                dotpro += self.w[feature] * value\n",
    "                \n",
    "#             update w\n",
    "            for feature, value in x.items():\n",
    "                if(y * (dotpro + self.theta) > 1):\n",
    "                    dldw = 0                   \n",
    "                else:\n",
    "                    dldw = -y * value\n",
    "                self.G[feature] += dldw ** 2\n",
    "                self.w[feature] += self.eta * y * value / np.sqrt(self.G[feature])\n",
    "                \n",
    "#             update theta        \n",
    "            if(y * (dotpro + self.theta) > 1):\n",
    "                dldtheta = 0\n",
    "            else:\n",
    "                dldtheta = -y\n",
    "            self.H += dldtheta ** 2\n",
    "            self.theta += self.eta * y / np.sqrt(self.H)  \n",
    "        \n",
    "\n",
    "    def predict_single(self, x):\n",
    "        \"\"\" TODO: IMPLEMENT\"\"\"\n",
    "\n",
    "        score = 0\n",
    "        for feature, value in x.items():\n",
    "            score += self.w[feature] * value\n",
    "        score += self.theta\n",
    "        \n",
    "        if score <= 0:\n",
    "            return -1\n",
    "        return 1\n",
    "        "
   ]
  },
  {
   "cell_type": "markdown",
   "metadata": {
    "id": "LmAio9O40aRd"
   },
   "source": [
    "### 1.5 Averaged Models (15 points)"
   ]
  },
  {
   "cell_type": "markdown",
   "metadata": {
    "id": "lzPnbRJ60aRe"
   },
   "source": [
    "You will also implement the averaged version of the previous three algorithms.\n",
    "\n",
    "During the course of training, each of the above algorithms will have $K + 1$ different parameter settings for the $K$ different updates it will make during training.\n",
    "The regular implementation of these algorithms uses the parameter values after the $K$th update as the final ones.\n",
    "Instead, the averaged version use the weighted average of the $K + 1$ parameter values as the final parameter values.\n",
    "Let $m_k$ denote the number of correctly classified examples by the $k$th parameter values and $M$ the total number of correctly classified examples.\n",
    "The final parameter values are\n",
    "\n",
    "$$\n",
    "\\begin{align}\n",
    "    M &= \\sum_{k=1}^{K+1} m_k \\\\\n",
    "    \\mathbf{w} &\\gets \\frac{1}{M} \\sum_{k=1}^{K+1} m_k \\cdot \\mathbf{w}^k \\\\\n",
    "    \\theta &\\gets \\frac{1}{M} \\sum_{k=1}^{K+1} m_k \\cdot \\theta^k \\\\\n",
    "\\end{align}\n",
    "$$\n",
    "\n",
    "For each of the averaged versions of Perceptron, Winnow, and AdaGrad, use the same hyperparameters and initialization as before.\n",
    "\n",
    "#### 1.5.1 Implementation Note\n",
    "Implementing the averaged variants of these algorithms can be tricky.\n",
    "    While the final parameter values are based on the sum of $K$ different vectors, there is no need to maintain *all* of these parameters.\n",
    "    Instead, you should implement these algorithms by keeping only two vectors, one which maintains the cumulative sum and the current one.\n",
    "\n",
    "Additionally, there are two ways of keeping track of these two vectors.\n",
    "One is more straightforward but prohibitively slow.\n",
    "The second requires some algebra to derive but is significantly faster to run.\n",
    "Try to analyze how the final weight vector is a function of the intermediate updates and their corresponding weights.\n",
    "It should take less than a minute or two for ten iterations for any of the averaged algorithms.\n",
    "**You need to think about how to efficiently implement the averaged algorithms yourself.**\n",
    "\n",
    "Further, the implementation for Winnow is slightly more complicated than the other two, so if you consistently have low accuracy for the averaged Winnow, take a closer look at the derivation."
   ]
  },
  {
   "cell_type": "code",
   "execution_count": 162,
   "metadata": {
    "id": "Vo-NP3ot0aRf",
    "scrolled": true
   },
   "outputs": [],
   "source": [
    "class AveragedPerceptron(Classifier):\n",
    "    def __init__(self, features):\n",
    "        self.eta = 1\n",
    "        self.w = {feature: 0.0 for feature in features}\n",
    "        self.theta = 0\n",
    "        \"\"\"TODO: You will need to add data members here\"\"\"\n",
    "        self.M = 0\n",
    "        self.lastM = 0\n",
    "        self.weightedW = {feature: 1.0 for feature in features}\n",
    "        self.weightedT = 0     \n",
    "        \n",
    "    def process_example(self, x, y):\n",
    "        \"\"\" TODO: IMPLEMENT\"\"\"\n",
    "        y_pred = self.predict_single(x)\n",
    "        if y != y_pred:\n",
    "            \n",
    "#             update sum of mk*wk and mk*thetak\n",
    "            for feature in self.weightedW:\n",
    "                self.weightedW[feature] += (self.M - self.lastM) * self.w[feature]\n",
    "            self.weightedT += (self.M - self.lastM) * self.theta\n",
    "            \n",
    "#             update weights\n",
    "            for feature, value in x.items():\n",
    "                self.w[feature] += self.eta * y * value\n",
    "            self.theta += self.eta * y\n",
    "            \n",
    "#             reset lastM\n",
    "#             self.M += 1\n",
    "            self.lastM = self.M\n",
    "            \n",
    "        else:\n",
    "            self.M += 1\n",
    "        \n",
    "    def predict_single(self, x):\n",
    "        \"\"\" TODO: IMPLEMENT\"\"\"\n",
    "        \n",
    "        score = 0\n",
    "        for feature, value in x.items():\n",
    "            score += self.w[feature] * value\n",
    "        score += self.theta\n",
    "        if score <= 0:\n",
    "            return -1\n",
    "        return 1  \n",
    "        \n",
    "    def finalize(self):\n",
    "        \"\"\" TODO: IMPLEMENT\"\"\"\n",
    "        self.M +=1\n",
    "        for feature in self.weightedW:\n",
    "            self.w[feature] = 1/self.M * self.weightedW[feature]\n",
    "        self.theta = 1/self.M * self.weightedT\n",
    "        "
   ]
  },
  {
   "cell_type": "code",
   "execution_count": 53,
   "metadata": {},
   "outputs": [
    {
     "name": "stdout",
     "output_type": "stream",
     "text": [
      "0.9445\n"
     ]
    }
   ],
   "source": [
    "# test the averaged perceptron model\n",
    "\n",
    "X_train, y_train, X_dev, y_dev, X_test, y_test, features = load_synthetic_data('dense')\n",
    "\n",
    "AvgPerceptron = AveragedPerceptron(features)\n",
    "iteration = 10\n",
    "\n",
    "for iter in range(iteration):\n",
    "    for i in range(len(X_train)):\n",
    "        AvgPerceptron.process_example(X_train[i],y_train[i])\n",
    "AvgPerceptron.finalize()\n",
    "\n",
    "count = 0\n",
    "for i in range(len(X_dev)):\n",
    "    x = X_dev[i]\n",
    "    y = AvgPerceptron.predict_single(x)\n",
    "    if y_dev[i] == y:\n",
    "        count += 1\n",
    "print(count/len(X_dev))"
   ]
  },
  {
   "cell_type": "code",
   "execution_count": 161,
   "metadata": {
    "id": "bv-kvuF30aRj"
   },
   "outputs": [],
   "source": [
    "class AveragedWinnow(Classifier):\n",
    "    def __init__(self, alpha, features):\n",
    "        self.alpha = alpha\n",
    "        self.w = {feature: 1.0 for feature in features}\n",
    "        self.theta = -len(features)\n",
    "        \"\"\"TODO: You will need to add data members here\"\"\"\n",
    "        self.M = 0\n",
    "        self.lastM = 0\n",
    "        self.weightedW = {feature: 1.0 for feature in features}\n",
    "\n",
    "        \n",
    "    def process_example(self, x, y):\n",
    "        \"\"\" TODO: IMPLEMENT\"\"\"\n",
    "              \n",
    "        y_pred = self.predict_single(x)\n",
    "        if y != y_pred:\n",
    "            for feature, value in x.items():\n",
    "                self.w[feature] = self.w[feature] * pow(self.alpha,y*value)\n",
    "                \n",
    "            for feature in self.weightedW:\n",
    "                self.weightedW[feature] += (self.M - self.lastM) * self.w[feature]\n",
    "            \n",
    "#             self.M += 1\n",
    "            self.lastM = self.M\n",
    "        else:\n",
    "            self.M +=1\n",
    "\n",
    "\n",
    "    def predict_single(self, x):\n",
    "        \"\"\" TODO: IMPLEMENT\"\"\"\n",
    "        score = 0\n",
    "        for feature, value in x.items():\n",
    "            score += self.w[feature] * value\n",
    "        score += self.theta\n",
    "        \n",
    "        if score <= 0:\n",
    "            return -1\n",
    "        return 1\n",
    "        \n",
    "    def finalize(self):\n",
    "        \"\"\" TODO: IMPLEMENT\"\"\"\n",
    "        self.M += 1\n",
    "        for feature in self.weightedW:\n",
    "            self.w[feature] = 1/self.M * self.weightedW[feature]        \n",
    "        "
   ]
  },
  {
   "cell_type": "code",
   "execution_count": 145,
   "metadata": {},
   "outputs": [
    {
     "name": "stdout",
     "output_type": "stream",
     "text": [
      "0.939\n"
     ]
    }
   ],
   "source": [
    "# test the averaged Winnow model\n",
    "\n",
    "X_train, y_train, X_dev, y_dev, X_test, y_test, features = load_synthetic_data('sparse')\n",
    "\n",
    "iteration = 10\n",
    "alpha = 1.1\n",
    "AvgWinnow = AveragedWinnow(alpha,features)\n",
    "AvgWinnow.train(X_train,y_train)\n",
    "\n",
    "# AvgWinnow = Winnow(alpha,features)\n",
    "# AvgWinnow.train(X_train,y_train)\n",
    "\n",
    "count = 0\n",
    "for i in range(len(X_dev)):\n",
    "    x = X_dev[i]\n",
    "    y = AvgWinnow.predict_single(x)\n",
    "    if y_dev[i] == y:\n",
    "        count += 1\n",
    "print(count/len(X_dev))"
   ]
  },
  {
   "cell_type": "code",
   "execution_count": 160,
   "metadata": {
    "id": "L9xWrGHS0aRn"
   },
   "outputs": [],
   "source": [
    "class AveragedAdaGrad(Classifier):\n",
    "    def __init__(self, eta, features):\n",
    "        self.eta = eta\n",
    "        self.w = {feature: 0.0 for feature in features}\n",
    "        self.theta = 0\n",
    "        self.G = {feature: 1e-5 for feature in features}\n",
    "        self.H = 0\n",
    "        \"\"\"TODO: You will need to add data members here\"\"\"\n",
    "        self.M = 0\n",
    "        self.lastM = 0\n",
    "        self.weightedW = {feature: 1.0 for feature in features}\n",
    "        self.weightedT = 0\n",
    "        \n",
    "    def process_example(self, x, y):\n",
    "        \"\"\" TODO: IMPLEMENT\"\"\"\n",
    "        import numpy as np\n",
    "        \n",
    "        y_pred = self.predict_single(x)\n",
    "        dotpro = 0\n",
    "        \n",
    "        if y != y_pred:\n",
    "            \n",
    "            for feature in self.weightedW:\n",
    "                self.weightedW[feature] += (self.M - self.lastM) * self.w[feature]\n",
    "            self.weightedT += (self.M - self.lastM) * self.theta\n",
    "            \n",
    "#             calculate dot product\n",
    "            for feature, value in x.items():\n",
    "                dotpro += self.w[feature] * value\n",
    "                \n",
    "#             update w\n",
    "            for feature, value in x.items():\n",
    "                if(y * (dotpro + self.theta) > 1):\n",
    "                    dldw = 0                   \n",
    "                else:\n",
    "                    dldw = -y * value\n",
    "                self.G[feature] += dldw ** 2\n",
    "                self.w[feature] += self.eta * y * value / np.sqrt(self.G[feature])\n",
    "                \n",
    "#             update theta        \n",
    "            if(y * (dotpro + self.theta) > 1):\n",
    "                dldtheta = 0\n",
    "            else:\n",
    "                dldtheta = -y\n",
    "            self.H += dldtheta ** 2\n",
    "            self.theta += self.eta * y / np.sqrt(self.H)  \n",
    "            \n",
    "            self.lastM = self.M\n",
    "            \n",
    "        else:\n",
    "            self.M += 1\n",
    "        \n",
    "\n",
    "    def predict_single(self, x):\n",
    "        \"\"\" TODO: IMPLEMENT\"\"\"\n",
    "\n",
    "        score = 0\n",
    "        for feature, value in x.items():\n",
    "            score += self.w[feature] * value\n",
    "        score += self.theta\n",
    "        \n",
    "        if score <= 0:\n",
    "            return -1\n",
    "        return 1\n",
    "        \n",
    "    def finalize(self):\n",
    "        \"\"\" TODO: IMPLEMENT\"\"\"\n",
    "        self.M += 1\n",
    "        for feature in self.weightedW:\n",
    "            self.w[feature] = 1/self.M * self.weightedW[feature]\n",
    "        self.theta = 1/self.M * self.weightedT"
   ]
  },
  {
   "cell_type": "code",
   "execution_count": 135,
   "metadata": {},
   "outputs": [
    {
     "name": "stdout",
     "output_type": "stream",
     "text": [
      "0.9445\n"
     ]
    }
   ],
   "source": [
    "# test the averaged Adagrad model\n",
    "\n",
    "X_train, y_train, X_dev, y_dev, X_test, y_test, features = load_synthetic_data('dense')\n",
    "\n",
    "# 𝜂∈{1.5,0.25,0.03,0.005,0.001}\n",
    "\n",
    "eta = 1.5\n",
    "AvgAdaGrad = AveragedAdaGrad(eta,features)\n",
    "AvgAdaGrad.train(X_train,y_train)\n",
    "# OrigAdaGrad = AdaGrad(eta,features)\n",
    "# OrigAdaGrad.train(X_train,y_train)\n",
    "\n",
    "count = 0\n",
    "for i in range(len(X_dev)):\n",
    "    x = X_dev[i]\n",
    "    y = AvgAdaGrad.predict_single(x)\n",
    "    if y_dev[i] == y:\n",
    "        count += 1\n",
    "print(count/len(X_dev))"
   ]
  },
  {
   "cell_type": "markdown",
   "metadata": {
    "id": "kMi5gf710aRr"
   },
   "source": [
    "### 1.6 Support Vector Machines\n",
    "\n",
    "Although we have not yet covered SVMs in class, you can still train them using the `sklearn` library.\n",
    "We will use a soft margin SVM for non-linearly separable data.\n",
    "You should use the `sklearn` implementation as follows:\n",
    "```\n",
    "from sklearn.svm import LinearSVC\n",
    "classifier = LinearSVC(loss='hinge')\n",
    "classifier.fit(X, y)\n",
    "```\n",
    "\n",
    "`sklearn` requires a different feature representation than what we use for the Perceptron models.\n",
    "The provided Python template code demonstrates how to convert to the require representation.\n",
    "\n",
    "\n",
    "Given training samples $S = \\{(\\mathbf{x}^1, y^1), (\\mathbf{x}^2, y^2), \\dots, (\\mathbf{x}^m, y^m)\\}$, the objective for the SVM is the following:\n",
    "\n",
    "$$\n",
    "\\begin{equation}\n",
    "    \\min_{\\mathbf{w}, b, \\boldsymbol{\\xi}} \\frac{1}{2} \\vert\\vert \\mathbf{w}\\vert\\vert^2_2 + C \\sum_{i=1}^m \\xi_i\n",
    "\\end{equation}\n",
    "$$\n",
    "\n",
    "subject to the following constraints:\n",
    "\n",
    "$$\n",
    "\\begin{align}\n",
    "    y^i(\\mathbf{w}^\\intercal \\mathbf{x}^i + b) \\geq 1 - \\xi_i \\;\\;&\\textrm{for } i = 1, 2, \\dots, m \\\\\n",
    "    \\xi_i \\geq 0 \\;\\;& \\textrm{for } i = 1, 2, \\dots, m\n",
    "\\end{align}\n",
    "$$\n"
   ]
  },
  {
   "cell_type": "code",
   "execution_count": 169,
   "metadata": {},
   "outputs": [],
   "source": [
    "class SVMClassifier(Classifier):\n",
    "    \n",
    "    def __init__(self):\n",
    "        from sklearn.svm import LinearSVC\n",
    "        self.local_classifier = LinearSVC(loss = 'hinge')\n",
    "        self.vectorizer = DictVectorizer()\n",
    "        \n",
    "    def trainSVM(self,X_train,y_train):\n",
    "        X_train_dict = self.vectorizer.fit_transform(X_train)\n",
    "        self.local_classifier.fit(X_train_dict,y_train)\n",
    "    \n",
    "    def testSVM(self,X_test,y_test):\n",
    "        X_test_dict = self.vectorizer.transform(X_test)\n",
    "        return self.local_classifier.score(X_test_dict,y_test)"
   ]
  },
  {
   "cell_type": "code",
   "execution_count": 96,
   "metadata": {
    "id": "ys83AbV50aRt"
   },
   "outputs": [
    {
     "data": {
      "text/plain": [
       "0.9405"
      ]
     },
     "execution_count": 96,
     "metadata": {},
     "output_type": "execute_result"
    }
   ],
   "source": [
    "\"\"\"TODO: Create an SVM classifier\"\"\"\n",
    "X_train, y_train, X_dev, y_dev, X_test, y_test, features = load_synthetic_data('dense')\n",
    "\n",
    "# This is how you convert from the way we represent features in the\n",
    "# Perceptron code to how you need to represent features for the SVM.\n",
    "# You can then train with (X_train_dict, y_train) and test with\n",
    "# (X_conll_test_dict, y_conll_test) and (X_enron_test_dict, y_enron_test)\n",
    "vectorizer = DictVectorizer()\n",
    "X_train_dict = vectorizer.fit_transform(X_train)\n",
    "X_test_dict = vectorizer.transform(X_test)\n",
    "\n",
    "    \n",
    "from sklearn.svm import LinearSVC\n",
    "classifier = LinearSVC(loss = 'hinge')\n",
    "classifier.fit(X_train_dict,y_train)\n",
    "classifier.score(X_test_dict,y_test)"
   ]
  },
  {
   "cell_type": "code",
   "execution_count": null,
   "metadata": {},
   "outputs": [],
   "source": []
  },
  {
   "cell_type": "markdown",
   "metadata": {
    "id": "HzmeTfF20aR0"
   },
   "source": [
    "# Section 2. Datasets\n",
    "\n",
    "In this section, we describe the synthetic and NER datasets that you will use for your experiments.\n",
    "For the NER datasets, there is also an explanation for the features which you need to extract from the data.\n",
    "\n",
    "### 2.1 Synthetic Data\n",
    "\n",
    "#### 2.1.1 Introduction\n",
    "\n",
    "The synthetic datasets have features and labels which are automatically generated from a python script.\n",
    "Each instance will have $n$ binary features and are labeled according to a $l$-of-$m$-of-$n$ Boolean function.\n",
    "Specifically, there is a set of $m$ features such that an example if positive if and only if at least $l$ of these $m$ features are active.\n",
    "The set of $m$ features is the same for the dataset (i.e., it is not a separate set of $m$ features for each individual instance).\n",
    "\n",
    "We provide two versions of the synthetic dataset called sparse and dense.\n",
    "For both datasets, we set $l = 10$ and $m=20$.\n",
    "We set $n = 200$ for the sparse data and $n = 40$ for the dense data.\n",
    "Additionally, we add noise to the data as follows:\n",
    "With probability $0.05$ the label assigned by the function is changed and with probability $0.001$ each feature value is changed.\n",
    "Consequently, the data is not linearly separable.\n",
    "\n",
    "We have provided you with three data splits for both sparse and dense with 10,000 training, 2,000 development, and 2,000 testing examples.\n",
    "Section 3 describes the experiments that you need to run on these datasets.\n",
    "\n",
    "#### 2.1.2 Feature Representation\n",
    "\n",
    "The features of the synthetic data provided are vectors of 0s and 1s.\n",
    "Storing these large matrices requires lots of memory so we use a sparse representation that stores them as dictionaries instead.\n",
    "For example, the vector $[0,1,0,0,0,1]$ can be stored as `{\"x2\": 1,\"x6\": 1}` (using 1-based indexing).\n",
    "We have provided you with the code for parsing and converting the data to this format.\n",
    "You can use these for the all algorithms you develop except the SVM.\n",
    "Since you will be using the implementation of SVM from sklearn, you will need to provide a vector to it. You can use `sklearn.feature_extraction.DictVectorizer` for converting feature-value dictionaries to vectors.\n",
    "\n",
    "### 2.2 NER Data\n",
    "\n",
    "In addition to the synthetic data, we have provided you two datasets for the task of named-entity recognition (NER).\n",
    "The goal is to identify whether strings in text represent names of people, organizations, or locations.\n",
    "An example instance looks like the following:\n",
    "\n",
    "```\n",
    "    [PER Wolff] , currently a journalist in [LOC Argentina] , played with\n",
    "    [PER del Bosque] in the final years of the seventies in\n",
    "    [ORG Real Madrid] .\n",
    "```\n",
    "\n",
    "In this problem, we will simplify the task to identifying whether a string is named entity or not (that is, you don't have to say which type of entity it is).\n",
    "For each token in the input, we will use the tag $\\texttt{I}$ to denote that token is an entity and $\\texttt{O}$ otherwise.\n",
    "For example, the full tagging for the above instace is as follows:\n",
    "\n",
    "```\n",
    "    [I Wolff] [O ,] [O currently] [a] [O journalist] [O in] [I Argentina]\n",
    "    [O ,] [O played] [O with] [I del] [I Bosque] [O in] [O the] [O final]\n",
    "    [O years] [O of] [O the] [O seventies] [O in] [I Real] [I Madrid] .\n",
    "```\n",
    "\n",
    "Given a sentence $S = w_1, w_2, \\dots, w_n$, you need to predict the `I`, `O` tag for each word in the sentence.\n",
    "That is, you will produce the sequence $Y = y_1, y_2, \\dots, y_n$ where $y_i \\in$ {`I`, `O`}.\n",
    "\n",
    "#### 2.2.1 Datasets: CoNLL and Enron\n",
    "\n",
    "We have provided two datasets, the CoNLL dataset which is text from news articles, and Enron, a corpus of emails.\n",
    "The files contain one word and one tag per line.\n",
    "For CoNLL, there are training, development, and testing files, whereas Enron only has a test dataset.\n",
    "There are 14,987 training sentences (204,567 words), 336 development sentences (3,779 words), and 303 testing sentences (3,880 words) in CoNLL.\n",
    "For Enron there are 368 sentences (11,852 words).\n",
    "\n",
    "**Please note that the CoNLL dataset is available only for the purposes of this assignment.\n",
    "It is copyrighted, and you are granted access because you are a Penn student, but please delete it when you are done with the homework.**\n",
    "\n",
    "#### 2.2.2 Feature Extraction\n",
    "\n",
    "The NER data is provided as raw text, and you are required to extract features for the classifier.\n",
    "In this assignment, we will only consider binary features based on the context of the word that is supposed to be tagged.\n",
    "\n",
    "Assume that there are $V$ unique words in the dataset and each word has been assigned a unique ID which is a number $\\{1, 2, \\dots, V\\}$.\n",
    "Further, $w_{-k}$ and $w_{+k}$ indicate the $k$th word before and after the target word.\n",
    "The feature templates that you should use to generate features are as follows:\n",
    "\n",
    "| Template             | Number of Features |\n",
    "|----------------------|--------------------|\n",
    "| $w_{-3}$             | $V$                |\n",
    "| $w_{-2}$             | $V$                |\n",
    "| $w_{-1}$             | $V$                |\n",
    "| $w_{+1}$             | $V$                |\n",
    "| $w_{+2}$             | $V$                |\n",
    "| $w_{+3}$             | $V$                |\n",
    "| $w_{-1}$ & $w_{-2}$  | $V \\times V$       |\n",
    "| $w_{+1}$ \\& $w_{+2}$ | $V \\times V$       |\n",
    "| $w_{-1}$ \\& $w_{+1}$ | $V \\times V$       |\n",
    "\n",
    "Each feature template corresponds to a set of features that you will compute (similar to the features you generated in problem 2 from the first homework assignment).\n",
    "The $w_{-3}$ feature template corresponds to $V$ features where the $i$th feature is 1 if the third word to the left of the target word has ID $i$.\n",
    "The $w_{-1} \\& w_{+1}$ feature template corresponds to $V \\times V$ features where there is one feature for every unique pair words.\n",
    "For example, feature $(i - 1) \\times V + j$ is a binary feature that is 1 if the word 1 to the left of the target has ID $i$ and the first word to the right of the target has ID $j$.\n",
    "In practice, you will not need to keep track of the feature IDs.\n",
    "Instead, each feature will be given a name such as \"$w_{-1}=\\textrm{the} \\& w_{+1}=\\textrm{cat}$\".\n",
    "\n",
    "In total, all of the above feature templates correspond to a very large number of features.\n",
    "However, for each word, there will be exactly 9 features which are active (non-zero), so the feature vector is quite sparse.\n",
    "You will represent this as a dictionary which maps from the feature name to the value.\n",
    "In the provided Python template, we have implemented a couple of the features for you to demonstrate how to compute them and what the naming scheme should look like.\n",
    "\n",
    "In order to deal with the first two words and the last two words in a sentence, we will add special symbol \"SSS\" and \"EEE\" to the vocabulary to represent the words before the first word and the words after the last word.\n",
    "Notice that in the test data you may encounter a word that was not observed in training, and therefore is not in your dictionary.\n",
    "In this case, you cannot generate a feature for it, resulting in less than 7 active features in some of the test examples."
   ]
  },
  {
   "cell_type": "markdown",
   "metadata": {
    "id": "RHHy_nGx0aR2"
   },
   "source": [
    "# Section 3. Experiments (65 points total)"
   ]
  },
  {
   "cell_type": "markdown",
   "metadata": {
    "id": "2PKCZQ9Z0aR3"
   },
   "source": [
    "You will run two sets of experiments, one using the synthetic data and one using the NER data.\n",
    "\n",
    "### 3.1 Synthetic Experiment (30 + 10 extra credit points)\n",
    "\n",
    "This experiment will explore the impact that the amount of training data has on model performance.\n",
    "First, you will do hyperparameter tuning for Winnow and Perceptron with AdaGrad (both standard and averaged versions).\n",
    "Then you will generate learning curves that will plot the size of the training data against the performance.\n",
    "Finally, for each of the models trained on all of the training data, you will find the test score.\n",
    "You should use accuracy to compute the performance of the model.\n",
    "\n",
    "In summary, the experiment consists of three parts\n",
    "1. Parameter Tuning\n",
    "2. Learning Curves\n",
    "3. Final Evaluation\n",
    "\n",
    "#### 3.1.1 Parameter Tuning (10 points)\n",
    "\n",
    "For both the Winnow and Perceptron with AdaGrad (standard and averaged), there are hyperparameters that you need to choose.\n",
    "(The same is true for SVM, but you should only use the default settings.)\n",
    "Similarly to cross-validation from Homework 1, we will estimate how well each model will do on the true test data using the development dataset (we will not run cross-validation), and choose the hyperparameter settings based on these results.\n",
    "\n",
    "For each hyperparameter value in Section 1, train a model using that value on the training data and compute the accuracy on the development dataset. Each model should be trained for 10 iterations (i.e., 10 passes over the entire dataset).\n",
    "\n",
    "TODO: Fill in the table with the best hyperparameter values and the corresponding validation accuracies.\n",
    "Repeat this for both the sparse and dense data."
   ]
  },
  {
   "cell_type": "markdown",
   "metadata": {
    "id": "xdoFHNKp0aR4"
   },
   "source": [
    "# Winnow Sweep\n",
    "\n",
    "| $\\alpha$ | Sparse | Dense |\n",
    "|----------|--------|-------|\n",
    "| 1.1      | 0.8935 | 0.8995 |\n",
    "| 1.01     | 0.9270    | 0.9215     |\n",
    "| 1.005    | 0.9195    | 0.9080   |\n",
    "| 1.0005   | 0.5630     | 0.8615     |\n",
    "| 1.0001   | 0.5205      | 0.6140      |\n",
    "\n",
    "##### Averaged Winnow Sweep\n",
    "\n",
    "| $\\alpha$ | Sparse | Dense |\n",
    "|----------|--------|-------|\n",
    "| 1.1      |  0.9390      | 0.9445      |\n",
    "| 1.01     |  0.8980      | 0.9335      |\n",
    "| 1.005    |  0.8405      | 0.9150      |\n",
    "| 1.0005   |  0.5255      | 0.6700      |\n",
    "| 1.0001   |  0.5095      | 0.5460      |\n",
    "\n",
    "##### AdaGrad Sweep\n",
    "\n",
    "| $\\eta$   | Sparse | Dense |\n",
    "|----------|--------|-------|\n",
    "| 1.5      |  0.8745      | 0.9325      |\n",
    "| 0.25     |  0.8745      | 0.9325      |\n",
    "| 0.03     |  0.8745      | 0.9325      |\n",
    "| 0.005    |  0.8745      | 0.9325      |\n",
    "| 0.001    |  0.8745      | 0.9325      |\n",
    "\n",
    "##### Averaged AdaGrad Sweep\n",
    "\n",
    "| $\\eta$   | Sparse | Dense |\n",
    "|----------|--------|-------|\n",
    "| 1.5      | 0.8935       | 0.9445      |\n",
    "| 0.25     | 0.8935       | 0.9445      |\n",
    "| 0.03     | 0.8935       | 0.9445      |\n",
    "| 0.005    | 0.8935       | 0.9445      |\n",
    "| 0.001    | 0.8935       | 0.9445      |"
   ]
  },
  {
   "cell_type": "markdown",
   "metadata": {
    "id": "sHZZ6U240aR6"
   },
   "source": [
    "#### 3.1.2 Learning Curves (10 points)\n",
    "\n",
    "Next, you will train all 7 models with different amounts of training data.\n",
    "For Winnow and Perceptron with AdaGrad (standard and averaged), use the best hyperparameters from the parameter tuning experiment.\n",
    "\n",
    "Each of the datasets contains 10,000 training examples.\n",
    "You will train each model 11 times on varying amounts of training data.\n",
    "The first 10 will increase by 500 examples: 500, 1k, 1.5k, 2k, ..., 5k.\n",
    "The 11th model should use all 10k examples.\n",
    "Each Perceptron-based model should be trained for 10 iterations (e.g., 10 passes over the total number of training examples available to that model).\n",
    "The SVM can be run until convergence with the default parameters.\n",
    "\n",
    "For each model, compute the accuracy on the development dataset and plot the results using the provided code.\n",
    "There should be a separate plot for the sparse and dense data.\n",
    "\n",
    "**Note** how we have included an image in markdown. You should do the same for both plots and include them in the output below by running your experiment, saving your plots to the images folder, and linking it to this cell.\n",
    "\n",
    "##### Sparse Plot \n",
    "\n",
    "![sparse](images/part313_sparse1.png)\n",
    "\n",
    "##### Dense Plot\n",
    "\n",
    "![part313_dense](images/part313_dense1.png)"
   ]
  },
  {
   "cell_type": "code",
   "execution_count": 232,
   "metadata": {},
   "outputs": [],
   "source": [
    "# set up the learning curve variables and load the dataset\n",
    "\n",
    "perceptron_accs = np.zeros(11)\n",
    "winnow_accs = np.zeros(11)\n",
    "adagrad_accs = np.zeros(11)\n",
    "avg_perceptron_accs = np.zeros(11)\n",
    "avg_winnow_accs = np.zeros(11)\n",
    "avg_adagrad_accs = np.zeros(11)\n",
    "svm_accs = np.zeros(11)\n",
    "\n",
    "\n",
    "X_train, y_train, X_dev, y_dev, X_test, y_test, features = load_synthetic_data('sparse')\n"
   ]
  },
  {
   "cell_type": "code",
   "execution_count": 233,
   "metadata": {},
   "outputs": [],
   "source": [
    "# basic perceptron\n",
    "for i in range(1,12):\n",
    "    X_train_i = X_train[0:(i*500)]\n",
    "    y_train_i = y_train[0:(i*500)]\n",
    "    if i == 11:\n",
    "        X_train_i = X_train\n",
    "        y_train_i = y_train\n",
    "    eta = 1.5\n",
    "    model = Perceptron(features)\n",
    "    model.train(X_train_i,y_train_i)\n",
    "    perceptron_accs[i-1] = compute_accuracy_313(X_dev,y_dev,model)"
   ]
  },
  {
   "cell_type": "code",
   "execution_count": 234,
   "metadata": {},
   "outputs": [],
   "source": [
    "# averaged perceptron\n",
    "for i in range(1,12):\n",
    "    X_train_i = X_train[0:(i*500)]\n",
    "    y_train_i = y_train[0:(i*500)]\n",
    "    if i == 11:\n",
    "        X_train_i = X_train\n",
    "        y_train_i = y_train\n",
    "    model = AveragedPerceptron(features)\n",
    "    model.train(X_train_i,y_train_i)\n",
    "    avg_perceptron_accs[i-1] = compute_accuracy_313(X_dev,y_dev,model)  "
   ]
  },
  {
   "cell_type": "code",
   "execution_count": 235,
   "metadata": {},
   "outputs": [],
   "source": [
    "# winnow\n",
    "for i in range(1,12):\n",
    "    X_train_i = X_train[0:(i*500)]\n",
    "    y_train_i = y_train[0:(i*500)]\n",
    "    if i == 11:\n",
    "        X_train_i = X_train\n",
    "        y_train_i = y_train\n",
    "    alpha = 1.01\n",
    "    model = Winnow(alpha,features)\n",
    "    model.train(X_train_i,y_train_i)\n",
    "    winnow_accs[i-1] = compute_accuracy_313(X_dev,y_dev,model)  "
   ]
  },
  {
   "cell_type": "code",
   "execution_count": 236,
   "metadata": {},
   "outputs": [],
   "source": [
    "# averaged winnow\n",
    "for i in range(1,12):\n",
    "    X_train_i = X_train[0:(i*500)]\n",
    "    y_train_i = y_train[0:(i*500)]\n",
    "    if i == 11:\n",
    "        X_train_i = X_train\n",
    "        y_train_i = y_train\n",
    "    alpha = 1.1\n",
    "    model = AveragedWinnow(alpha,features)\n",
    "    model.train(X_train_i,y_train_i)\n",
    "    avg_winnow_accs[i-1] = compute_accuracy_313(X_dev,y_dev,model)  "
   ]
  },
  {
   "cell_type": "code",
   "execution_count": 237,
   "metadata": {},
   "outputs": [],
   "source": [
    "# adagrad\n",
    "for i in range(1,12):\n",
    "    X_train_i = X_train[0:(i*500)]\n",
    "    y_train_i = y_train[0:(i*500)]\n",
    "    if i == 11:\n",
    "        X_train_i = X_train\n",
    "        y_train_i = y_train\n",
    "    eta = 1.5\n",
    "    model = AdaGrad(eta,features)\n",
    "    model.train(X_train_i,y_train_i)\n",
    "    adagrad_accs[i-1] = compute_accuracy_313(X_dev,y_dev,model)  "
   ]
  },
  {
   "cell_type": "code",
   "execution_count": 238,
   "metadata": {},
   "outputs": [],
   "source": [
    "# averaged AdaGrad\n",
    "for i in range(1,12):\n",
    "    X_train_i = X_train[0:(i*500)]\n",
    "    y_train_i = y_train[0:(i*500)]\n",
    "    if i == 11:\n",
    "        X_train_i = X_train\n",
    "        y_train_i = y_train\n",
    "    eta = 1.5\n",
    "    model = AveragedAdaGrad(eta,features)\n",
    "    model.train(X_train_i,y_train_i)\n",
    "    avg_adagrad_accs[i-1] = compute_accuracy_313(X_dev,y_dev,model)  "
   ]
  },
  {
   "cell_type": "code",
   "execution_count": 239,
   "metadata": {},
   "outputs": [
    {
     "name": "stderr",
     "output_type": "stream",
     "text": [
      "C:\\Users\\tongd\\anaconda3\\lib\\site-packages\\sklearn\\svm\\_base.py:976: ConvergenceWarning: Liblinear failed to converge, increase the number of iterations.\n",
      "  warnings.warn(\"Liblinear failed to converge, increase \"\n"
     ]
    }
   ],
   "source": [
    "from sklearn.svm import LinearSVC\n",
    "\n",
    "for i in range(1,12):\n",
    "    X_train_i = X_train[0:(i*500)]\n",
    "    y_train_i = y_train[0:(i*500)]\n",
    "    if i == 11:\n",
    "        X_train_i = X_train\n",
    "        y_train_i = y_train\n",
    "    vectorizer = DictVectorizer()\n",
    "    X_train_dict = vectorizer.fit_transform(X_train_i)\n",
    "    X_dev_dict = vectorizer.transform(X_dev)\n",
    "    classifier = LinearSVC(loss = 'hinge')\n",
    "    classifier.fit(X_train_dict,y_train_i)\n",
    "    svm_accs[i-1] = classifier.score(X_dev_dict,y_dev)\n"
   ]
  },
  {
   "cell_type": "code",
   "execution_count": 245,
   "metadata": {},
   "outputs": [
    {
     "data": {
      "text/plain": [
       "<Figure size 432x288 with 0 Axes>"
      ]
     },
     "metadata": {},
     "output_type": "display_data"
    },
    {
     "data": {
      "image/png": "[encoded data removed]",
      "text/plain": [
       "<Figure size 432x288 with 2 Axes>"
      ]
     },
     "metadata": {},
     "output_type": "display_data"
    }
   ],
   "source": [
    "\n",
    "plot_learning_curves(perceptron_accs,\n",
    "                        winnow_accs,\n",
    "                        adagrad_accs,\n",
    "                        avg_perceptron_accs,\n",
    "                        avg_winnow_accs,\n",
    "                        avg_adagrad_accs,\n",
    "                        svm_accs\n",
    "                        )"
   ]
  },
  {
   "cell_type": "code",
   "execution_count": 231,
   "metadata": {},
   "outputs": [
    {
     "data": {
      "text/plain": [
       "array([0.943 , 0.9445, 0.9445, 0.9445, 0.9445, 0.9445, 0.9445, 0.9445,\n",
       "       0.9445, 0.9445, 0.9445])"
      ]
     },
     "execution_count": 231,
     "metadata": {},
     "output_type": "execute_result"
    }
   ],
   "source": []
  },
  {
   "cell_type": "code",
   "execution_count": 157,
   "metadata": {},
   "outputs": [],
   "source": [
    "def compute_accuracy_313(X_dev,y_dev,classifier):\n",
    "    count = 0\n",
    "    for i in range(len(X_dev)):\n",
    "        x = X_dev[i]\n",
    "        y = classifier.predict_single(x)\n",
    "        if y_dev[i] == y:\n",
    "            count += 1\n",
    "    return (count/len(X_dev))"
   ]
  },
  {
   "cell_type": "markdown",
   "metadata": {
    "id": "2wHcZsGo0aR8"
   },
   "source": [
    "#### 3.1.3 Final Evaluation (5 points)\n",
    "\n",
    "Finally, for each of the 7 models, train the models on all of the training data and compute the test accuracy.\n",
    "For Winnow and Perceptron with AdaGrad, use the best hyperparameter settings you found.\n",
    "Report these accuracies in a table.\n",
    "   \n",
    "We will run our models with [500, 1000, 1500, 2000, 2500, 3000, 3500, 4000, 4500, 5000, 10000] examples."
   ]
  },
  {
   "cell_type": "code",
   "execution_count": null,
   "metadata": {
    "id": "NCfmjoYw_wNQ"
   },
   "outputs": [],
   "source": [
    "sample_sizes = [500 * i for i in range(1, 11)] + [10_000]"
   ]
  },
  {
   "cell_type": "code",
   "execution_count": null,
   "metadata": {},
   "outputs": [],
   "source": []
  },
  {
   "cell_type": "code",
   "execution_count": null,
   "metadata": {},
   "outputs": [],
   "source": [
    "\n"
   ]
  },
  {
   "cell_type": "code",
   "execution_count": 216,
   "metadata": {
    "id": "ZJJ9u_kf0aSB"
   },
   "outputs": [],
   "source": [
    "def run_synthetic_experiment(dataset_type='sparse'):\n",
    "    \"\"\"\n",
    "    TODO: IMPLEMENT \n",
    "    \n",
    "    Runs the synthetic experiment on either the sparse or dense data\n",
    "    depending on the data path (e.g. \"data/sparse\" or \"data/dense\").\n",
    "    \n",
    "    We have provided how to train the Perceptron on the training and\n",
    "    test on the testing data (the last part of the experiment). You need\n",
    "    to implement the hyperparameter sweep, the learning curves, and\n",
    "    predicting on the test dataset for the other models.\n",
    "    \"\"\"\n",
    "    \n",
    "    X_train, y_train, X_dev, y_dev, X_test, y_test, features = load_synthetic_data(dataset_type)\n",
    "    \n",
    "\n",
    "    # TODO: YOUR CODE HERE. Determine the best hyperparameters for the relevant models\n",
    "    # report the validation accuracy after training using the best hyper parameters\n",
    "    \n",
    "#     i think i did all of these picked the best hyper parameters way above here near the hyper parameter tables\n",
    "        \n",
    "    \n",
    "    # TOOD: YOUR CODE HERE. Downsample the dataset to the number of desired training\n",
    "    # instances (e.g. 500, 1000), then train all of the models on the\n",
    "    # sampled dataset. Compute the accuracy and add the accuracies to\n",
    "    # the corresponding list. Use plot_learning_curves()\n",
    "    \n",
    "#     I did all of these near where the plot is, separated into 7 or 8 cells. please refer to that.\n",
    "        \n",
    "    \n",
    "    # TODO: Train all 7 models on the training data and make predictions \n",
    "    # for test data\n",
    "    # We will show you how to do it for the basic Perceptron model.\n",
    "    classifier = Perceptron(features)\n",
    "    classifier.train(X_train, y_train)\n",
    "    y_pred = classifier.predict(X_test)\n",
    "    acc = accuracy_score(y_test, y_pred)\n",
    "    print(f\"Perceptron's accuracy is {acc}\")\n",
    "\n",
    "    # YOUR CODE HERE: Repeat for the other 6 models.\n",
    "\n",
    "#     Averaged Perceptron\n",
    "    classifier = AveragedPerceptron(features)\n",
    "    classifier.train(X_train, y_train)\n",
    "    y_pred = classifier.predict(X_test)\n",
    "    acc = accuracy_score(y_test, y_pred)\n",
    "    print(f\"Averaged Perceptron's accuracy is {acc}\")\n",
    "    \n",
    "#     Winnow\n",
    "    alpha = 1.01\n",
    "    classifier = Winnow(alpha,features)\n",
    "    classifier.train(X_train, y_train)\n",
    "    y_pred = classifier.predict(X_test)\n",
    "    acc = accuracy_score(y_test, y_pred)\n",
    "    print(f\"Winnow's accuracy is {acc}\")\n",
    "    \n",
    "#     Averaged Winnow\n",
    "    alpha = 1.1\n",
    "    classifier = AveragedWinnow(alpha,features)\n",
    "    classifier.train(X_train, y_train)\n",
    "    y_pred = classifier.predict(X_test)\n",
    "    acc = accuracy_score(y_test, y_pred)\n",
    "    print(f\"Averged Winnow's accuracy is {acc}\")\n",
    "    \n",
    "#     Averaged Winnow\n",
    "    eta = 1.5\n",
    "    classifier = AdaGrad(eta,features)\n",
    "    classifier.train(X_train, y_train)\n",
    "    y_pred = classifier.predict(X_test)\n",
    "    acc = accuracy_score(y_test, y_pred)\n",
    "    print(f\"AdaGrad's accuracy is {acc}\")\n",
    "    \n",
    "#     Averaged Winnow\n",
    "    eta = 1.5\n",
    "    classifier = AveragedAdaGrad(eta,features)\n",
    "    classifier.train(X_train, y_train)\n",
    "    y_pred = classifier.predict(X_test)\n",
    "    acc = accuracy_score(y_test, y_pred)\n",
    "    print(f\"Averged AdaGrad's accuracy is {acc}\")\n",
    "    \n",
    "    vectorizer = DictVectorizer()\n",
    "    X_train_dict = vectorizer.fit_transform(X_train)\n",
    "    X_test_dict = vectorizer.transform(X_test)\n",
    "    classifier = LinearSVC(loss = 'hinge')\n",
    "    classifier.fit(X_train_dict,y_train)\n",
    "    acc = classifier.score(X_test_dict,y_test)\n",
    "    print(f\"SVM's accuracy is {acc}\")"
   ]
  },
  {
   "cell_type": "code",
   "execution_count": 218,
   "metadata": {
    "id": "Sz_oTWqC0aSE"
   },
   "outputs": [
    {
     "name": "stdout",
     "output_type": "stream",
     "text": [
      "Perceptron's accuracy is 0.717\n",
      "Averaged Perceptron's accuracy is 0.9135\n",
      "Winnow's accuracy is 0.926\n",
      "Averged Winnow's accuracy is 0.936\n",
      "AdaGrad's accuracy is 0.878\n",
      "Averged AdaGrad's accuracy is 0.884\n",
      "SVM's accuracy is 0.936\n"
     ]
    }
   ],
   "source": [
    "\"\"\"\n",
    "Run the synthetic experiment on the sparse dataset. For reference,\n",
    "\"synthetic/sparse\" is the path to where the data is located.\n",
    "Note: This experiment takes substantial time (around 15 minutes),\n",
    "so don't worry if it's taking a long time to finish.\n",
    "\"\"\"\n",
    "run_synthetic_experiment('sparse')"
   ]
  },
  {
   "cell_type": "code",
   "execution_count": 217,
   "metadata": {
    "id": "lXcorX8ndhRo"
   },
   "outputs": [
    {
     "name": "stdout",
     "output_type": "stream",
     "text": [
      "Perceptron's accuracy is 0.9205\n",
      "Averaged Perceptron's accuracy is 0.9405\n",
      "Winnow's accuracy is 0.9255\n",
      "Averged Winnow's accuracy is 0.9405\n",
      "AdaGrad's accuracy is 0.9325\n",
      "Averged AdaGrad's accuracy is 0.9405\n",
      "SVM's accuracy is 0.9405\n"
     ]
    }
   ],
   "source": [
    "\"\"\"\n",
    "Run the synthetic experiment on the dense dataset. For reference,\n",
    "\"synthetic/dense\" is the path to where the data is located.\n",
    "Note: this experiment should take much less time.\n",
    "\"\"\"\n",
    "run_synthetic_experiment('dense')"
   ]
  },
  {
   "cell_type": "markdown",
   "metadata": {
    "id": "-2hLx_9Q0aSJ"
   },
   "source": [
    "##### Questions (5 points)\n",
    "\n",
    "Answer the following questions:\n",
    "\n",
    "1. Discuss the trends that you see when comparing the standard version of an algorithm to the averaged version (e.g., Winnow versus Averaged Winnow). Is there an observable trend?\n",
    "    \n",
    "    Typically averaged version of the algorithm has a slightly higher accuracy than the standard version, only 0.01~0.02 improvement but quite consistent.\n",
    "\n",
    "\n",
    "2. We provided you with 10,000 training examples.\n",
    "   Were all 10,000 necessary to achieve the best performance for each classifier?\n",
    "   If not, how many were necessary? (Rough estimates, no exact numbers required)\n",
    "   \n",
    "   Not all were necessary. Looking at the learning rate graph, accuracy for both dense and sparse datasets plateau around 6000-7000 training examples for even the worst-performing algorithm. For the best-performing algorithm, SVM, it converge to the highest accuracy with only about 1000 training examples. Further examples did not provide any improvement over accuracy.\n",
    "\n",
    "\n",
    "3. Report your Final Test Accuracies\n",
    "\n",
    "   \n",
    "\n",
    "| Model               | Sparse | Dense |\n",
    "|---------------------|--------|-------|\n",
    "| Perceptron          |  0.7170      |   0.9205    |\n",
    "| Winnow              |  0.9260      |  0.9255     |\n",
    "| AdaGrad             |  0.8780      |  0.9325     |\n",
    "| Averaged Perceptron |  0.9135      |  0.9405     |\n",
    "| Averaged Winnow     |  0.9360      |  0.9405     |\n",
    "| Averaged AdaGrad    |  0.8840      |  0.9405     |\n",
    "| SVM                 |  0.9360      |  0.9405     |\n",
    "   \n",
    "  "
   ]
  },
  {
   "cell_type": "markdown",
   "metadata": {
    "id": "bPZtn5Fv0aSK"
   },
   "source": [
    "#### 3.1.5 Extra Credit (10 points)\n",
    "\n",
    "Included in the resources for this homework assignment is the code that we used to generate the synthetic data.\n",
    "We used a small amount of noise to create the dataset which you ran the experiments on.\n",
    "For extra credit, vary the amount of noise in either/both of the label and features.\n",
    "Then, plot the models' performances as a function of the amount of noise.\n",
    "Discuss your observations."
   ]
  },
  {
   "cell_type": "markdown",
   "metadata": {
    "id": "0iW_koNXv79l"
   },
   "source": [
    "TODO: Extra Credit observations"
   ]
  },
  {
   "cell_type": "code",
   "execution_count": 261,
   "metadata": {},
   "outputs": [],
   "source": [
    "X_train, y_train, X_dev, y_dev, X_test, y_test, features = load_synthetic_data('dense')\n",
    "noise = np.linspace(0,1,21)\n",
    "ec_winnowacc = np.zeros(len(noise))\n",
    "ec_perceptronacc = np.zeros(len(noise))\n",
    "ec_adagradacc = np.zeros(len(noise))\n",
    "ec_svmacc = np.zeros(len(noise))\n",
    "\n",
    "for i in range(len(noise)):\n",
    "    X_train, y_train, X_dev, y_dev, X_test, y_test, features = load_synthetic_data('dense')\n",
    "    classifier = Perceptron(features)\n",
    "    num = int(len(y_train) * noise[i])\n",
    "    for j in range(num):\n",
    "        tempRand = np.random.randint(0,len(y_train))\n",
    "        y_train[tempRand] = -y_train[tempRand]\n",
    "    classifier.train(X_train, y_train)\n",
    "    y_pred = classifier.predict(X_test)\n",
    "    ec_perceptronacc[i] = accuracy_score(y_test, y_pred)\n",
    "\n",
    "for i in range(len(noise)):\n",
    "    X_train, y_train, X_dev, y_dev, X_test, y_test, features = load_synthetic_data('dense')\n",
    "    classifier = Winnow(1.1,features)\n",
    "    num = int(len(y_train) * noise[i])\n",
    "    for j in range(num):\n",
    "        tempRand = np.random.randint(0,len(y_train))\n",
    "        y_train[tempRand] = -y_train[tempRand]\n",
    "    classifier.train(X_train, y_train)\n",
    "    y_pred = classifier.predict(X_test)\n",
    "    ec_winnowacc[i] = accuracy_score(y_test, y_pred)\n",
    "\n",
    "for i in range(len(noise)):\n",
    "    X_train, y_train, X_dev, y_dev, X_test, y_test, features = load_synthetic_data('dense')\n",
    "    classifier = AdaGrad(1.5,features)\n",
    "    num = int(len(y_train) * noise[i])\n",
    "    for j in range(num):\n",
    "        tempRand = np.random.randint(0,len(y_train))\n",
    "        y_train[tempRand] = -y_train[tempRand]\n",
    "    classifier.train(X_train, y_train)\n",
    "    y_pred = classifier.predict(X_test)\n",
    "    ec_adagradacc[i] = accuracy_score(y_test, y_pred)\n",
    "    \n",
    "for i in range(len(noise)):\n",
    "    X_train, y_train, X_dev, y_dev, X_test, y_test, features = load_synthetic_data('dense')\n",
    "    num = int(len(y_train) * noise[i])\n",
    "    for j in range(num):\n",
    "        tempRand = np.random.randint(0,len(y_train))\n",
    "        y_train[tempRand] = -y_train[tempRand]\n",
    "    vectorizer = DictVectorizer()\n",
    "    X_train_dict = vectorizer.fit_transform(X_train)\n",
    "    X_test_dict = vectorizer.transform(X_test)\n",
    "    classifier = LinearSVC(loss = 'hinge')\n",
    "    classifier.fit(X_train_dict,y_train)\n",
    "    ec_svmacc[i] = classifier.score(X_test_dict,y_test)"
   ]
  },
  {
   "cell_type": "code",
   "execution_count": 264,
   "metadata": {},
   "outputs": [
    {
     "ename": "NameError",
     "evalue": "name 'ax' is not defined",
     "output_type": "error",
     "traceback": [
      "\u001b[1;31m---------------------------------------------------------------------------\u001b[0m",
      "\u001b[1;31mNameError\u001b[0m                                 Traceback (most recent call last)",
      "\u001b[1;32m<ipython-input-264-a5f7981b1d45>\u001b[0m in \u001b[0;36m<module>\u001b[1;34m\u001b[0m\n\u001b[1;32m----> 1\u001b[1;33m \u001b[0mplot_EC_curves\u001b[0m\u001b[1;33m(\u001b[0m\u001b[0mec_perceptronacc\u001b[0m\u001b[1;33m,\u001b[0m\u001b[0mec_winnowacc\u001b[0m\u001b[1;33m,\u001b[0m\u001b[0mec_adagradacc\u001b[0m\u001b[1;33m,\u001b[0m\u001b[0mec_svmacc\u001b[0m\u001b[1;33m)\u001b[0m\u001b[1;33m\u001b[0m\u001b[1;33m\u001b[0m\u001b[0m\n\u001b[0m",
      "\u001b[1;32m<ipython-input-263-ccb9b3293472>\u001b[0m in \u001b[0;36mplot_EC_curves\u001b[1;34m(perceptron_accs, winnow_accs, adagrad_accs, svm_accs)\u001b[0m\n\u001b[0;32m     25\u001b[0m     \u001b[1;32mfor\u001b[0m \u001b[0mlabel\u001b[0m\u001b[1;33m,\u001b[0m \u001b[0macc_list\u001b[0m \u001b[1;32min\u001b[0m \u001b[0maccuracies\u001b[0m\u001b[1;33m:\u001b[0m\u001b[1;33m\u001b[0m\u001b[1;33m\u001b[0m\u001b[0m\n\u001b[0;32m     26\u001b[0m         \u001b[1;32massert\u001b[0m \u001b[0mlen\u001b[0m\u001b[1;33m(\u001b[0m\u001b[0macc_list\u001b[0m\u001b[1;33m)\u001b[0m \u001b[1;33m==\u001b[0m \u001b[1;36m21\u001b[0m\u001b[1;33m\u001b[0m\u001b[1;33m\u001b[0m\u001b[0m\n\u001b[1;32m---> 27\u001b[1;33m         \u001b[0max\u001b[0m\u001b[1;33m.\u001b[0m\u001b[0mplot\u001b[0m\u001b[1;33m(\u001b[0m\u001b[0mx\u001b[0m\u001b[1;33m,\u001b[0m \u001b[0macc_list\u001b[0m\u001b[1;33m,\u001b[0m \u001b[0mlabel\u001b[0m\u001b[1;33m=\u001b[0m\u001b[0mlabel\u001b[0m\u001b[1;33m)\u001b[0m\u001b[1;33m\u001b[0m\u001b[1;33m\u001b[0m\u001b[0m\n\u001b[0m\u001b[0;32m     28\u001b[0m \u001b[1;31m#         ax2.plot(x, acc_list, label=label)\u001b[0m\u001b[1;33m\u001b[0m\u001b[1;33m\u001b[0m\u001b[1;33m\u001b[0m\u001b[0m\n\u001b[0;32m     29\u001b[0m \u001b[1;33m\u001b[0m\u001b[0m\n",
      "\u001b[1;31mNameError\u001b[0m: name 'ax' is not defined"
     ]
    },
    {
     "data": {
      "text/plain": [
       "<Figure size 432x288 with 0 Axes>"
      ]
     },
     "metadata": {},
     "output_type": "display_data"
    }
   ],
   "source": [
    "plot_EC_curves(ec_perceptronacc,ec_winnowacc,ec_adagradacc,ec_svmacc)"
   ]
  },
  {
   "cell_type": "code",
   "execution_count": 263,
   "metadata": {},
   "outputs": [],
   "source": [
    "\"\"\"\n",
    "A helper function that plots the relationship between number of examples\n",
    "and accuracies for all the models.\n",
    "\n",
    "You should not need to edit this method.\n",
    "\"\"\"\n",
    "def plot_EC_curves(\n",
    "    perceptron_accs,\n",
    "    winnow_accs,\n",
    "    adagrad_accs,\n",
    "    svm_accs\n",
    "):\n",
    "    \n",
    "    accuracies = [\n",
    "        ('perceptron', perceptron_accs),\n",
    "        ('winnow', winnow_accs),\n",
    "        ('adagrad', adagrad_accs),\n",
    "        ('svm', svm_accs)\n",
    "    ]\n",
    "    \n",
    "    x = np.linspace(0,1,21)\n",
    "    plt.figure()\n",
    "#     f, (ax, ax2) = plt.subplots(1, 2, sharey=True, facecolor='w')\n",
    "    \n",
    "    for label, acc_list in accuracies:\n",
    "        assert len(acc_list) == 21\n",
    "        ax.plot(x, acc_list, label=label)\n",
    "#         ax2.plot(x, acc_list, label=label)\n",
    "        \n",
    "    ax.set_xlim(0, 1)\n",
    "#     ax2.set_xlim(9500, 10000)\n",
    "#     ax2.set_xticks([10000])\n",
    "    # hide the spines between ax and ax2\n",
    "    ax.spines['right'].set_visible(False)\n",
    "#     ax2.spines['left'].set_visible(False)\n",
    "    ax.yaxis.tick_left()\n",
    "    ax.tick_params(labelright='off')\n",
    "    ax2.yaxis.tick_right()\n",
    "    ax2.legend()\n",
    "    plt.show()"
   ]
  },
  {
   "cell_type": "code",
   "execution_count": 259,
   "metadata": {},
   "outputs": [
    {
     "data": {
      "text/plain": [
       "array([0.814 , 0.802 , 0.718 , 0.784 , 0.6285, 0.7525, 0.769 , 0.6545,\n",
       "       0.5415, 0.6905, 0.707 , 0.6945, 0.688 , 0.718 , 0.656 , 0.7205,\n",
       "       0.725 , 0.6525, 0.77  , 0.7515, 0.812 ])"
      ]
     },
     "execution_count": 259,
     "metadata": {},
     "output_type": "execute_result"
    }
   ],
   "source": [
    "ec_winnowacc"
   ]
  },
  {
   "cell_type": "markdown",
   "metadata": {
    "id": "OMisGYXj0aSK"
   },
   "source": [
    "### 3.2 NER Experiment: Welcome to the Real World (35 points)\n",
    "\n",
    "The experiment with the NER data will analyze how changing the domain of the training and testing data can impact the performance of a model.\n",
    "\n",
    "Instead of accuracy, you will use your $F_1$ score implementation in Section 0 to evaluate how well a model does.\n",
    "Recall measures how many of the actual entities the model successfully tagged as an entity.\n",
    "\n",
    "$$\n",
    "\\begin{align}\n",
    "    \\textrm{Precision} &= \\frac{\\#\\textrm{(Actually Entity & Model Predicted Entity)}}{\\#\\textrm{(Model Predicted Entity)}} \\\\\n",
    "    \\textrm{Recall} &= \\frac{\\#\\textrm{(Actually Entity & Model Predicted Entity)}}{\\#\\textrm{(Actually Entity)}} \\\\\n",
    "    \\textrm{F}_1 &= 2 \\cdot \\frac{\\textrm{Precision} \\times \\textrm{Recall}}{\\textrm{Precision} + \\textrm{Recall}}\n",
    "\\end{align}\n",
    "$$\n",
    "\n",
    "For this experiment, you will only use the averaged basic Perceptron and SVM.\n",
    "Hence, no parameter tuning is necessary.\n",
    "Train both models on the CoNLL training data then compute the F$_1$ on the development and testing data of both CoNLL and Enron.\n",
    "Note that the model which is used to predict labels for Enron is trained on CoNLL data, not Enron data.\n",
    "Report the F$_1$ scores in a table.\n",
    "\n",
    "#### 3.2.1 Extracting NER Features  (25 points)\n",
    "\n",
    "Reread Section 2.2.2 to understand how to extract the features required to train the models\n",
    "and translate it to the code below."
   ]
  },
  {
   "cell_type": "code",
   "execution_count": 276,
   "metadata": {
    "id": "Y0gPdPmp0aSL"
   },
   "outputs": [],
   "source": [
    "def extract_ner_features_train(train):\n",
    "    \"\"\"\n",
    "    Extracts feature dictionaries and labels from the data in \"train\"\n",
    "    Additionally creates a list of all of the features which were created.\n",
    "    We have implemented the w-1 and w+1 features for you to show you how\n",
    "    to create them.\n",
    "    \n",
    "    TODO: You should add your additional featurization code here.\n",
    "    (which might require adding and/or changing existing code)\n",
    "    \"\"\"\n",
    "    y = []\n",
    "    X = []\n",
    "    features = set()\n",
    "    for sentence in train:\n",
    "        padded = [('SSS', None)] + [('SSS', None)] + [('SSS', None)] + sentence[:]\\\n",
    "                    + [('EEE', None)] + [('EEE', None)] + [('EEE', None)]\n",
    "        for i in range(3, len(padded) - 3):\n",
    "            y.append(1 if padded[i][1] == 'I' else -1)\n",
    "            feat1 = 'w-1=' + str(padded[i - 1][0])\n",
    "            feat2 = 'w+1=' + str(padded[i + 1][0])\n",
    "            feat3 = 'w-3=' + str(padded[i - 3][0])\n",
    "            feat4 = 'w-2=' + str(padded[i - 2][0])\n",
    "            feat5 = 'w+2=' + str(padded[i + 2][0])\n",
    "            feat6 = 'w+3=' + str(padded[i + 3][0])\n",
    "            feat7 = 'w-1&w-2=' + str(padded[i - 1][0] + str(padded[i - 2][0]))\n",
    "            feat8 = 'w+1&w+2=' + str(padded[i + 1][0] + str(padded[i + 2][0]))\n",
    "            feat9 = 'w-1&w+1=' + str(padded[i - 1][0] + str(padded[i + 1][0]))\n",
    "            feats = [feat1, feat2, feat3, feat4, feat5, feat6, feat7, feat8, feat9]\n",
    "            features.update(feats)\n",
    "            feats = {feature: 1 for feature in feats}\n",
    "            X.append(feats)\n",
    "    return features, X, y"
   ]
  },
  {
   "cell_type": "markdown",
   "metadata": {
    "id": "EQOz2fZ_0aSV"
   },
   "source": [
    "Now, repeat the process of extracting features from the test data.\n",
    "What is the difference between the code above and below?"
   ]
  },
  {
   "cell_type": "code",
   "execution_count": 275,
   "metadata": {
    "id": "TzqdP7oE0aSX"
   },
   "outputs": [],
   "source": [
    "def extract_features_dev_or_test(data, features):\n",
    "    \"\"\"\n",
    "    Extracts feature dictionaries and labels from \"data\". The only\n",
    "    features which should be computed are those in \"features\". You\n",
    "    should add your additional featurization code here.\n",
    "    \n",
    "    TODO: You should add your additional featurization code here.\n",
    "    \"\"\"\n",
    "    y = []\n",
    "    X = []\n",
    "    for sentence in data:\n",
    "        padded = [('SSS', None)] + [('SSS', None)] + [('SSS', None)] + sentence[:]\\\n",
    "                    + [('EEE', None)] + [('EEE', None)] + [('EEE', None)]\n",
    "        for i in range(3, len(padded) - 3):\n",
    "            y.append(1 if padded[i][1] == 'I' else -1)\n",
    "            feat1 = 'w-1=' + str(padded[i - 1][0])\n",
    "            feat2 = 'w+1=' + str(padded[i + 1][0])\n",
    "            feat3 = 'w-3=' + str(padded[i - 3][0])\n",
    "            feat4 = 'w-2=' + str(padded[i - 2][0])\n",
    "            feat5 = 'w+2=' + str(padded[i + 2][0])\n",
    "            feat6 = 'w+3=' + str(padded[i + 3][0])\n",
    "            feat7 = 'w-1&w-2=' + str(padded[i - 1][0] + str(padded[i - 2][0]))\n",
    "            feat8 = 'w+1&w+2=' + str(padded[i + 1][0] + str(padded[i + 2][0]))\n",
    "            feat9 = 'w-1&w+1=' + str(padded[i - 1][0] + str(padded[i + 1][0]))\n",
    "            feats = [feat1, feat2, feat3, feat4, feat5, feat6, feat7, feat8, feat9]\n",
    "#             feats = [feat1, feat2]\n",
    "            feats = {feature: 1 for feature in feats if feature in features}\n",
    "            X.append(feats)\n",
    "    return X, y"
   ]
  },
  {
   "cell_type": "markdown",
   "metadata": {
    "id": "Um-IG2cv0aSe"
   },
   "source": [
    "#### 3.2.2 Running the NER Experiment\n",
    "\n",
    "As stated previously, train both models on the CoNLL training data then compute the $F_1$  on the development and testing data of both CoNLL and Enron. Note that the model which is used to predict labels for Enron is trained on CoNLL data, not Enron data."
   ]
  },
  {
   "cell_type": "code",
   "execution_count": 282,
   "metadata": {
    "id": "jxvboxmg0aSe"
   },
   "outputs": [],
   "source": [
    "def run_ner_experiment(data_path):\n",
    "    \"\"\"\n",
    "    Runs the NER experiment using the path to the ner data\n",
    "    (e.g. \"ner\" from the released resources). We have implemented\n",
    "    the standard Perceptron below. You should do the same for\n",
    "    the averaged version and the SVM.\n",
    "    \n",
    "    The SVM requires transforming the features into a different\n",
    "    format. See the end of this function for how to do that.\n",
    "    \"\"\"\n",
    "    train = load_ner_data(dataset='conll', dataset_type='train')\n",
    "    conll_test = load_ner_data(dataset='conll', dataset_type='test')\n",
    "    enron_test = load_ner_data(dataset='enron', dataset_type='test')\n",
    "\n",
    "    features, X_train, y_train = extract_ner_features_train(train)\n",
    "    X_conll_test, y_conll_test = extract_features_dev_or_test(conll_test, features)\n",
    "    X_enron_test, y_enron_test = extract_features_dev_or_test(enron_test, features)\n",
    "                 \n",
    "    # TODO: We show you how to do this for Perceptron.\n",
    "    # You should do this for the Averaged Perceptron and SVM\n",
    "    classifier = Perceptron(features)\n",
    "    classifier.train(X_train, y_train)\n",
    "    \n",
    "    y_pred = classifier.predict(X_conll_test)\n",
    "    conll_f1 = calculate_f1(y_conll_test, y_pred)\n",
    "\n",
    "    y_pred = classifier.predict(X_enron_test)\n",
    "    enron_f1 = calculate_f1(y_enron_test, y_pred)\n",
    "    print('Perceptron on NER')\n",
    "    print('  CoNLL', conll_f1)\n",
    "    print('  Enron', enron_f1)\n",
    "    \n",
    "    \n",
    "#     Averaged Perceptron\n",
    "#     classifier = AveragedPerceptron(features)\n",
    "#     classifier.train(X_train, y_train)\n",
    "    \n",
    "#     y_pred = classifier.predict(X_conll_test)\n",
    "#     conll_f1 = calculate_f1(y_conll_test, y_pred)\n",
    "\n",
    "#     y_pred = classifier.predict(X_enron_test)\n",
    "#     enron_f1 = calculate_f1(y_enron_test, y_pred)\n",
    "#     print('Averaged Perceptron on NER')\n",
    "#     print('  CoNLL', conll_f1)\n",
    "#     print('  Enron', enron_f1)\n",
    "    \n",
    "    \n",
    "#     SVM\n",
    "    # This is how you convert from the way we represent features in the\n",
    "    # Perceptron code to how you need to represent features for the SVM.\n",
    "    # You can then train with (X_train_dict, y_train) and test with\n",
    "    # (X_conll_test_dict, y_conll_test) and (X_enron_test_dict, y_enron_test)\n",
    "    vectorizer = DictVectorizer()\n",
    "    X_train_dict = vectorizer.fit_transform(X_train)\n",
    "    X_conll_test_dict = vectorizer.transform(X_conll_test)\n",
    "    X_enron_test_dict = vectorizer.transform(X_enron_test)\n",
    "    classifier = LinearSVC(loss = 'hinge')\n",
    "    classifier.fit(X_train_dict,y_train)\n",
    "    \n",
    "    y_pred = classifier.predict(X_conll_test_dict)\n",
    "    conll_f1 = calculate_f1(y_conll_test,y_pred)\n",
    "    \n",
    "    y_pred = classifier.predict(X_enron_test_dict)\n",
    "    enron_f1 = calculate_f1(y_enron_test, y_pred)\n",
    "    print('Averaged Perceptron on NER')\n",
    "    print('  CoNLL', conll_f1)\n",
    "    print('  Enron', enron_f1)"
   ]
  },
  {
   "cell_type": "code",
   "execution_count": 283,
   "metadata": {
    "id": "-yy6Y9320aSi"
   },
   "outputs": [
    {
     "name": "stdout",
     "output_type": "stream",
     "text": [
      "Perceptron on NER\n",
      "  CoNLL 0.7443890274314214\n",
      "  Enron 0.20623229461756373\n",
      "Averaged Perceptron on NER\n",
      "  CoNLL 0.827823691460055\n",
      "  Enron 0.24119530416221988\n"
     ]
    }
   ],
   "source": [
    "# Run the NER experiment. \"ner\" is the path to where the data is located.\n",
    "run_ner_experiment('ner')"
   ]
  },
  {
   "cell_type": "markdown",
   "metadata": {
    "id": "qeElQnS_0aSw"
   },
   "source": [
    "\n",
    "##### F1 Scores Table \n",
    "TODO: report your values:  \n",
    "\n",
    "| Model               | CoNLL Test F1 | Enron Test F1 |\n",
    "|---------------------|---------------|---------------|\n",
    "| Averaged Perceptron |               |               |\n",
    "| SVM                 |   0.8278            |    0.2412           |"
   ]
  },
  {
   "cell_type": "markdown",
   "metadata": {
    "id": "fpzm2yA20aSx"
   },
   "source": [
    "##### Questions (5 points)\n",
    "\n",
    "Comment on the results:\n",
    "1. Are the F$_1$ scores on CoNLL and Enron similar?\n",
    "    \n",
    "    No, F$_1$ scores on CoNLL and Enron are quite different. CoNLL has much higher ones than Enron.\n",
    "    \n",
    "\n",
    "2. If they are dissimilar, explain why you think the F$_1$ score increased/decreased on the Enron data.\n",
    "\n",
    "    CoNLL has both training and testing data so the classifiers are more fitted towards that type of data. Enron is a brand new group of examples that are unrelated to CoNLL so classifiers might have trouble identify it. This could be a sign of overfitting.\n"
   ]
  },
  {
   "cell_type": "markdown",
   "metadata": {
    "id": "tKr_PXhO0aSy"
   },
   "source": [
    "## Submission Instructions\n",
    "\n",
    "We will be using Gradescope to turn in both the Python code.\n",
    "You should have been automatically added to Gradescope.\n",
    "If you do not have access, please ask the TA staff on Piazza.\n",
    "\n",
    "There are three parts to the submission on Gradescope:\n",
    "* ipynb file: Submit this notebook (.ipynb). If you are using Google Colab, you will have to download it as an ipynb file.\n",
    "* PDF: This notebook saved as a PDF. We will use this to see the overall structure of your homework and code, and to check manual questions like the tables, plots, and your discussions. How should I convert this notebook to PDF, you may ask? There are a few ways, but for simplicity print the Jupyter notebook and _Save as PDF_.\n",
    "* Code: A `hw2.py` file. We will use this to unit test and automate grading some parts of the homework. We only need a few functions/classes from the whole notebook. In particular, to unit test we only need:\n",
    "    - `calculate_f1`\n",
    "    - `highest_and_lowest_f1_score`\n",
    "    - `Perceptron`, `Winnow`, and `AdaGrad` classes.\n",
    "    \n",
    "There are two ways to submit these pieces of code. You can either manually copy and paste these to a Python file,\n",
    "or you can use Jupyter's _Download as .py_, and delete all unnecessary code. "
   ]
  }
 ],
 "metadata": {
  "colab": {
   "name": "hw2.ipynb",
   "provenance": [],
   "toc_visible": true
  },
  "kernelspec": {
   "display_name": "Python 3",
   "language": "python",
   "name": "python3"
  },
  "language_info": {
   "codemirror_mode": {
    "name": "ipython",
    "version": 3
   },
   "file_extension": ".py",
   "mimetype": "text/x-python",
   "name": "python",
   "nbconvert_exporter": "python",
   "pygments_lexer": "ipython3",
   "version": "3.8.3"
  }
 },
 "nbformat": 4,
 "nbformat_minor": 1
}
